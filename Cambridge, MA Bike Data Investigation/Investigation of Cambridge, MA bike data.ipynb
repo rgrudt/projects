{
 "cells": [
  {
   "cell_type": "markdown",
   "metadata": {},
   "source": [
    "#    This notebook is an exploration of Cambridge, Massachusettes bike data\n",
    "#### Part 1: A brief look at the demographics of bikers of Cambridge and how biking in Cambridge has changed over time\n",
    "#### Part 2: A more in depth look at crashes involving bicycles over time. \n",
    "\n",
    "###### Begun 10/28/19\n",
    "   ###### Note: This is a work in progress and is expected to be completed no later than 12/7/2019"
   ]
  },
  {
   "cell_type": "markdown",
   "metadata": {},
   "source": [
    "### Log of data included in this project\n",
    "#### - transport_data: Labor Force Commuting Mode Split: 1990, 2000, 2006 - 2010, and 2012 - 2016. From data.cambridgema.gov: \"This data set compares 1990, 2000, 2006 - 2010, and 2012-16 Journey to Work data, outlining the modes of commuting for the Labor Force of the City of Cambridge, regardless of workplace location. The data set originates from three sources: 1990 Journey to Work data supplied to the Massachusetts Central Transportation Planning Staff by the Census Bureau, a special tabulation of 2000 Decennial Census data - the 2000 Census Transportation Planning Products (CTPP), and the two most recent versions of the CTPP compiled from the American Community Survey. The Cambridge Labor Force consist of all Cambridge residents who work or who are currently seeking work, regardless of workplace location.\" https://data.cambridgema.gov/Transportation-Planning/Labor-Force-Commuting-Mode-Split-1990-2000-2006-20/8acn-zxjt\n",
    "#### - new_crash_data: List of crashes involving motor vehicles, bicycles and/or pedestrians reported in the City of Cambridge since 2015. https://data.cambridgema.gov/Public-Safety/Police-Department-Crash-Data-Updated/gb5w-yva3\n",
    "#### - nbr_data: Blockgroup data from the 2013-2017 American Community Survey was recompiled by the Cambridge Community Development Department to align with approximate neighborhood boundaries. Categories include: Total Population, Language Spoken at Home by Population 5 and Older, Educational Attainment by Population 25 and Older, Means of Commute for Resident Workers, Vehicles Owned by Household, Per Capita Income, and Poverty Rates. https://data.cambridgema.gov/Neighborhood-Census-Data/American-Community-Survey-2013-17-Estimates-by-Nei/m9gy-vc6p\n",
    "#### - broad_bike_count: The “Eco-Totem” counter (made by the Montreal-based company Eco-Counter) counts cyclists via in-ground loop detectors embedded under the pavement of Broadway near Kendall Square. https://data.cambridgema.gov/dataset/Eco-Totem-Broadway-Bicycle-Count/q8v9-mcfg\n"
   ]
  },
  {
   "cell_type": "code",
   "execution_count": 7,
   "metadata": {},
   "outputs": [],
   "source": [
    "import pandas as pd\n",
    "import os \n",
    "import matplotlib.pyplot as plt\n",
    "from pylab import rcParams\n",
    "import numpy as np"
   ]
  },
  {
   "cell_type": "code",
   "execution_count": 12,
   "metadata": {},
   "outputs": [],
   "source": [
    "#This cell imports all datasets used in this data exploration\n",
    "trans_data = pd.read_csv('Labor_Force_Commuting.csv')\n",
    "\n",
    "new_crash_data = pd.read_csv('Police_crash_data.csv')\n",
    "\n",
    "nbr_data = pd.read_csv('Neighborhood_economic_data.csv')\n",
    "\n",
    "broad_bike_count = pd.read_csv('Broadway_bike_count.csv')\n"
   ]
  },
  {
   "cell_type": "markdown",
   "metadata": {},
   "source": [
    "## Part 1: Biker demographics and changes over time"
   ]
  },
  {
   "cell_type": "code",
   "execution_count": 13,
   "metadata": {},
   "outputs": [
    {
     "data": {
      "text/html": [
       "<div>\n",
       "<style scoped>\n",
       "    .dataframe tbody tr th:only-of-type {\n",
       "        vertical-align: middle;\n",
       "    }\n",
       "\n",
       "    .dataframe tbody tr th {\n",
       "        vertical-align: top;\n",
       "    }\n",
       "\n",
       "    .dataframe thead th {\n",
       "        text-align: right;\n",
       "    }\n",
       "</style>\n",
       "<table border=\"1\" class=\"dataframe\">\n",
       "  <thead>\n",
       "    <tr style=\"text-align: right;\">\n",
       "      <th></th>\n",
       "      <th>Census Tract</th>\n",
       "      <th>Year</th>\n",
       "      <th>Population</th>\n",
       "      <th>Total Laborforce</th>\n",
       "      <th>% of Total Laborforce</th>\n",
       "      <th>Drove Alone</th>\n",
       "      <th>Carpool</th>\n",
       "      <th>Public Transit</th>\n",
       "      <th>Bike</th>\n",
       "      <th>Walk</th>\n",
       "      <th>Other Mode</th>\n",
       "      <th>Work at Home</th>\n",
       "    </tr>\n",
       "  </thead>\n",
       "  <tbody>\n",
       "    <tr>\n",
       "      <th>0</th>\n",
       "      <td>Citywide</td>\n",
       "      <td>1990</td>\n",
       "      <td>95802</td>\n",
       "      <td>52355</td>\n",
       "      <td>100.0</td>\n",
       "      <td>37.7</td>\n",
       "      <td>7.5</td>\n",
       "      <td>23.4</td>\n",
       "      <td>2.9</td>\n",
       "      <td>24.2</td>\n",
       "      <td>0.9</td>\n",
       "      <td>3.4</td>\n",
       "    </tr>\n",
       "    <tr>\n",
       "      <th>1</th>\n",
       "      <td>Citywide</td>\n",
       "      <td>2000</td>\n",
       "      <td>101355</td>\n",
       "      <td>54979</td>\n",
       "      <td>100.0</td>\n",
       "      <td>35.3</td>\n",
       "      <td>5.2</td>\n",
       "      <td>24.9</td>\n",
       "      <td>3.9</td>\n",
       "      <td>24.3</td>\n",
       "      <td>1.1</td>\n",
       "      <td>5.3</td>\n",
       "    </tr>\n",
       "    <tr>\n",
       "      <th>2</th>\n",
       "      <td>Citywide</td>\n",
       "      <td>2006-2010</td>\n",
       "      <td>103506</td>\n",
       "      <td>56910</td>\n",
       "      <td>100.0</td>\n",
       "      <td>30.7</td>\n",
       "      <td>4.6</td>\n",
       "      <td>28.1</td>\n",
       "      <td>6.8</td>\n",
       "      <td>22.7</td>\n",
       "      <td>1.1</td>\n",
       "      <td>6.1</td>\n",
       "    </tr>\n",
       "    <tr>\n",
       "      <th>131</th>\n",
       "      <td>Citywide</td>\n",
       "      <td>2012-2016</td>\n",
       "      <td>108755</td>\n",
       "      <td>61930</td>\n",
       "      <td>100.0</td>\n",
       "      <td>28.2</td>\n",
       "      <td>3.5</td>\n",
       "      <td>28.9</td>\n",
       "      <td>7.0</td>\n",
       "      <td>24.6</td>\n",
       "      <td>1.0</td>\n",
       "      <td>6.8</td>\n",
       "    </tr>\n",
       "  </tbody>\n",
       "</table>\n",
       "</div>"
      ],
      "text/plain": [
       "    Census Tract       Year  Population  Total Laborforce  \\\n",
       "0       Citywide       1990       95802             52355   \n",
       "1       Citywide       2000      101355             54979   \n",
       "2       Citywide  2006-2010      103506             56910   \n",
       "131     Citywide  2012-2016      108755             61930   \n",
       "\n",
       "     % of Total Laborforce  Drove Alone  Carpool  Public Transit  Bike  Walk  \\\n",
       "0                    100.0         37.7      7.5            23.4   2.9  24.2   \n",
       "1                    100.0         35.3      5.2            24.9   3.9  24.3   \n",
       "2                    100.0         30.7      4.6            28.1   6.8  22.7   \n",
       "131                  100.0         28.2      3.5            28.9   7.0  24.6   \n",
       "\n",
       "     Other Mode  Work at Home  \n",
       "0           0.9           3.4  \n",
       "1           1.1           5.3  \n",
       "2           1.1           6.1  \n",
       "131         1.0           6.8  "
      ]
     },
     "execution_count": 13,
     "metadata": {},
     "output_type": "execute_result"
    }
   ],
   "source": [
    "#begin investigation by comparing citywide data by year (trans_data also includes data broken down by )\n",
    "city_trans_data  = trans_data.loc[trans_data['Census Tract'] == 'Citywide']\n",
    "city_trans_data.head()\n"
   ]
  },
  {
   "cell_type": "markdown",
   "metadata": {},
   "source": [
    "### Comparision of the population of Cambridge vs different commute methods"
   ]
  },
  {
   "cell_type": "code",
   "execution_count": 14,
   "metadata": {},
   "outputs": [
    {
     "data": {
      "text/plain": [
       "<function matplotlib.pyplot.tight_layout(pad=1.08, h_pad=None, w_pad=None, rect=None)>"
      ]
     },
     "execution_count": 14,
     "metadata": {},
     "output_type": "execute_result"
    },
    {
     "data": {
      "image/png": "[encoded data removed]",
      "text/plain": [
       "<Figure size 648x576 with 4 Axes>"
      ]
     },
     "metadata": {
      "needs_background": "light"
     },
     "output_type": "display_data"
    }
   ],
   "source": [
    "rcParams['figure.figsize'] = 9, 8\n",
    "plt.subplot(2,2,1)\n",
    "plt.scatter([1990, 2000, 2008, 2014],city_trans_data['Bike'])\n",
    "plt.xlabel('Year')\n",
    "plt.ylabel('% of population')\n",
    "plt.title('Bike')\n",
    "plt.subplot(2,2,2)\n",
    "plt.scatter([1990, 2000, 2008, 2014],city_trans_data['Public Transit'])\n",
    "plt.title('Public Transportation')\n",
    "plt.xlabel('Year')\n",
    "plt.ylabel('% of population')\n",
    "plt.subplot(2,2,3)\n",
    "plt.scatter([1990, 2000, 2008, 2014],city_trans_data['Drove Alone'])\n",
    "plt.title('Drove Alone')\n",
    "plt.xlabel('Year')\n",
    "plt.ylabel('% of population')\n",
    "plt.subplot(2,2,4)\n",
    "plt.scatter([1990, 2000, 2008, 2014],city_trans_data['Carpool'])\n",
    "plt.title('Carpool')\n",
    "plt.xlabel('Year')\n",
    "plt.ylabel('% of population')\n",
    "plt.tight_layout"
   ]
  },
  {
   "cell_type": "markdown",
   "metadata": {},
   "source": [
    "#### As the population of Cambridge has grown, the percentage of the population commuting via bicycle and public transit has also increased. The percentage of Cambridge residents carpooling and driving by themselves to work has decreased. Overall Cambridge residents are commuting less by car and more by alternate means of transportation than they were 20, 10, and even 5 years ago."
   ]
  },
  {
   "cell_type": "markdown",
   "metadata": {},
   "source": [
    "### Demographic data of bike commuters in Cambridge"
   ]
  },
  {
   "cell_type": "code",
   "execution_count": 15,
   "metadata": {},
   "outputs": [
    {
     "data": {
      "image/png": "[encoded data removed]",
      "text/plain": [
       "<Figure size 1080x288 with 3 Axes>"
      ]
     },
     "metadata": {
      "needs_background": "light"
     },
     "output_type": "display_data"
    }
   ],
   "source": [
    "#plot the demographics of bikers in Cambridge\n",
    "\n",
    "rcParams['figure.figsize'] = 15, 4\n",
    "plt.subplot(1,3,1)\n",
    "x = nbr_data['Bachelors or Graduate Degrees %']\n",
    "y = nbr_data['Resident Commute: Bike %']\n",
    "plt.scatter(x, y)\n",
    "plt.xlabel('% of Neighborhood with Bachelors or Graduate Degree')\n",
    "plt.ylabel('Commute via Bike %')\n",
    "z = np.polyfit(x, y, 1)\n",
    "p = np.poly1d(z)\n",
    "plt.plot(x,p(x),\"r--\")\n",
    "\n",
    "\n",
    "plt.subplot(1,3,2)\n",
    "x = nbr_data['No Vehicles Available %']\n",
    "y = nbr_data['Resident Commute: Bike %']\n",
    "plt.scatter(x, y)\n",
    "plt.xlabel('% of Neighborhood with No Vehicles Available')\n",
    "plt.ylabel('Commute via Bike %')\n",
    "z = np.polyfit(x, y, 1)\n",
    "p = np.poly1d(z)\n",
    "plt.plot(x,p(x),\"r--\")\n",
    "\n",
    "\n",
    "plt.subplot(1,3,3)\n",
    "x = nbr_data['Per Capita Income']\n",
    "y = nbr_data['Resident Commute: Bike %']\n",
    "plt.scatter(x, y)\n",
    "plt.xlabel('Neighborhood Per Capita Income')\n",
    "plt.ylabel('Commute via Bike %')\n",
    "z = np.polyfit(x, y, 1)\n",
    "p = np.poly1d(z)\n",
    "plt.plot(x,p(x),\"r--\")\n",
    "\n",
    "plt.tight_layout()"
   ]
  },
  {
   "cell_type": "markdown",
   "metadata": {},
   "source": [
    "## A  visual inspection of the effect of different demographic factors (% with bachelor's of graduate degree, % with no vehicle available, per capita income) on the % of neighborhood members who ride their bikes to work does not show strong correlation between any of the different factors. "
   ]
  },
  {
   "cell_type": "markdown",
   "metadata": {},
   "source": [
    "# Part 2: Bike safety in Cambridge: Bike Crash Data"
   ]
  },
  {
   "cell_type": "code",
   "execution_count": 16,
   "metadata": {},
   "outputs": [
    {
     "data": {
      "text/html": [
       "<div>\n",
       "<style scoped>\n",
       "    .dataframe tbody tr th:only-of-type {\n",
       "        vertical-align: middle;\n",
       "    }\n",
       "\n",
       "    .dataframe tbody tr th {\n",
       "        vertical-align: top;\n",
       "    }\n",
       "\n",
       "    .dataframe thead th {\n",
       "        text-align: right;\n",
       "    }\n",
       "</style>\n",
       "<table border=\"1\" class=\"dataframe\">\n",
       "  <thead>\n",
       "    <tr style=\"text-align: right;\">\n",
       "      <th></th>\n",
       "      <th>Date Time</th>\n",
       "      <th>Day of Week</th>\n",
       "      <th>Manner of Collision</th>\n",
       "      <th>Ambient Light</th>\n",
       "      <th>Description of Damaged Property</th>\n",
       "      <th>P2 Injury</th>\n",
       "    </tr>\n",
       "  </thead>\n",
       "  <tbody>\n",
       "    <tr>\n",
       "      <th>1</th>\n",
       "      <td>01/05/2015 09:15:00 AM</td>\n",
       "      <td>Monday</td>\n",
       "      <td>REAR-END</td>\n",
       "      <td>DAYLIGHT</td>\n",
       "      <td>PEDAL BIKE</td>\n",
       "      <td>NaN</td>\n",
       "    </tr>\n",
       "    <tr>\n",
       "      <th>28</th>\n",
       "      <td>04/23/2015 07:20:00 AM</td>\n",
       "      <td>Thursday</td>\n",
       "      <td>REAR-END</td>\n",
       "      <td>DAYLIGHT</td>\n",
       "      <td>NaN</td>\n",
       "      <td>NaN</td>\n",
       "    </tr>\n",
       "    <tr>\n",
       "      <th>35</th>\n",
       "      <td>06/06/2015 11:39:00 PM</td>\n",
       "      <td>Saturday</td>\n",
       "      <td>ANGLE</td>\n",
       "      <td>DARK - LIGHTED ROADWAY</td>\n",
       "      <td>NaN</td>\n",
       "      <td>NaN</td>\n",
       "    </tr>\n",
       "    <tr>\n",
       "      <th>39</th>\n",
       "      <td>07/14/2015 08:27:00 PM</td>\n",
       "      <td>Tuesday</td>\n",
       "      <td>NaN</td>\n",
       "      <td>DAYLIGHT</td>\n",
       "      <td>NaN</td>\n",
       "      <td>NaN</td>\n",
       "    </tr>\n",
       "    <tr>\n",
       "      <th>41</th>\n",
       "      <td>07/22/2015 05:24:00 PM</td>\n",
       "      <td>Wednesday</td>\n",
       "      <td>NaN</td>\n",
       "      <td>NaN</td>\n",
       "      <td>NaN</td>\n",
       "      <td>NaN</td>\n",
       "    </tr>\n",
       "  </tbody>\n",
       "</table>\n",
       "</div>"
      ],
      "text/plain": [
       "                 Date Time Day of Week Manner of Collision  \\\n",
       "1   01/05/2015 09:15:00 AM      Monday            REAR-END   \n",
       "28  04/23/2015 07:20:00 AM    Thursday            REAR-END   \n",
       "35  06/06/2015 11:39:00 PM    Saturday               ANGLE   \n",
       "39  07/14/2015 08:27:00 PM     Tuesday                 NaN   \n",
       "41  07/22/2015 05:24:00 PM   Wednesday                 NaN   \n",
       "\n",
       "             Ambient Light Description of Damaged Property P2 Injury  \n",
       "1                 DAYLIGHT                      PEDAL BIKE       NaN  \n",
       "28                DAYLIGHT                             NaN       NaN  \n",
       "35  DARK - LIGHTED ROADWAY                             NaN       NaN  \n",
       "39                DAYLIGHT                             NaN       NaN  \n",
       "41                     NaN                             NaN       NaN  "
      ]
     },
     "execution_count": 16,
     "metadata": {},
     "output_type": "execute_result"
    }
   ],
   "source": [
    "#only select crash data that involves a bicyclist\n",
    "new_bike_crash = new_crash_data.loc[new_crash_data['May involve cyclist'] == 1.0]\n",
    "new_bike_crash.head()\n",
    "#create new dataframe from selected, relevant columns of crash database\n",
    "col_list = ['Date Time','Day of Week', 'Manner of Collision', 'Ambient Light', 'Description of Damaged Property', 'P2 Injury']\n",
    "new_bike_crash_lim = pd.DataFrame()\n",
    "for element in col_list:\n",
    "    new_bike_crash_lim[element] = new_bike_crash[element]\n",
    "    \n",
    "new_bike_crash_lim.head()"
   ]
  },
  {
   "cell_type": "code",
   "execution_count": 17,
   "metadata": {},
   "outputs": [
    {
     "name": "stdout",
     "output_type": "stream",
     "text": [
      "{'Monday': 106, 'Thursday': 134, 'Saturday': 53, 'Tuesday': 135, 'Wednesday': 153, 'Friday': 104, 'Sunday': 49}\n"
     ]
    }
   ],
   "source": [
    "#count the number of bike accidents on each day of the week\n",
    "week_count = {}\n",
    "dow_list = new_bike_crash_lim['Day of Week']\n",
    "for i in range(len(dow_list)):\n",
    "    dow = dow_list.iloc[i]\n",
    "    if dow in week_count:\n",
    "        week_count[dow] += 1\n",
    "    else:\n",
    "        week_count[dow] = 1\n",
    "print(week_count)"
   ]
  },
  {
   "cell_type": "markdown",
   "metadata": {},
   "source": [
    "### More bike accidents happen on weeks day rather than weekends, likely because the majority of bikers are commuting to weekday jobs/school"
   ]
  },
  {
   "cell_type": "code",
   "execution_count": 18,
   "metadata": {},
   "outputs": [],
   "source": [
    "# create a function that will give you the bike accidents for a given category\n",
    "def bike_crash_breakdown(crash_dataframe, category_term):\n",
    "    crash_dict = {}\n",
    "    interest_list = crash_dataframe[category_term]\n",
    "    for i in range(len(interest_list)):\n",
    "        inter = interest_list.iloc[i]\n",
    "        if inter in crash_dict:\n",
    "            crash_dict[inter] += 1\n",
    "        else:\n",
    "            crash_dict[inter] = 1\n",
    "    return crash_dict"
   ]
  },
  {
   "cell_type": "code",
   "execution_count": 19,
   "metadata": {},
   "outputs": [],
   "source": [
    "#function that, give a dictionary with all int values, produces percentages of each value\n",
    "def dict_percent(int_dict):\n",
    "    per_list = {}\n",
    "    total = sum(int_dict.values())\n",
    "    for item in int_dict:\n",
    "        curr_val = round(((int_dict[item] / total)*100),2)\n",
    "        per_list[item] = curr_val\n",
    "    return per_list"
   ]
  },
  {
   "cell_type": "code",
   "execution_count": 20,
   "metadata": {},
   "outputs": [
    {
     "name": "stdout",
     "output_type": "stream",
     "text": [
      "{'DAYLIGHT': 544, 'DARK - LIGHTED ROADWAY': 117, nan: 6, 'DUSK': 48, 'UNKNOWN': 10, 'DARK - UNKNOWN ROADWAY LIGHTING': 2, 'DAWN': 5, 'DARK - ROADWAY NOT LIGHTED': 1, 'OTHER': 1}\n",
      "{'dark': 120, 'dusk': 53, 'daylight': 544}\n"
     ]
    }
   ],
   "source": [
    "# determine the frequency of bike crashs in different amounts of ambient light. \n",
    "crash_light_count = bike_crash_breakdown(new_bike_crash_lim, 'Ambient Light')\n",
    "print(crash_light_count)\n",
    "# combine different conditions to create 3 categories: daylight, dark, dusk/dawn\n",
    "crash_light_count_brf = {}\n",
    "crash_light_count_brf['dark'] = crash_light_count['DARK - LIGHTED ROADWAY'] + crash_light_count['DARK - UNKNOWN ROADWAY LIGHTING'] + crash_light_count['DARK - ROADWAY NOT LIGHTED']\n",
    "crash_light_count_brf['dusk'] = crash_light_count['DUSK'] + crash_light_count['DAWN']\n",
    "crash_light_count_brf['daylight'] = crash_light_count['DAYLIGHT']\n",
    "print(crash_light_count_brf)\n"
   ]
  },
  {
   "cell_type": "code",
   "execution_count": 21,
   "metadata": {},
   "outputs": [
    {
     "name": "stdout",
     "output_type": "stream",
     "text": [
      "Percent of Crashes in Ambient Light Types\n",
      "{'dark': 16.74, 'dusk': 7.39, 'daylight': 75.87}\n"
     ]
    }
   ],
   "source": [
    "#now determine as a percentage of total bike related crashes\n",
    "crash_light_percent = dict_percent(crash_light_count_brf)\n",
    "print(\"Percent of Crashes in Ambient Light Types\")\n",
    "print(crash_light_percent)"
   ]
  },
  {
   "cell_type": "markdown",
   "metadata": {},
   "source": [
    "### The majority of bike crashes happen during day light, however, the majority of bike rides also occur during daylight. The next step investigates whether the percentage of accidents that happen at night is proportional to the percentage of bike rides that happen at night. "
   ]
  },
  {
   "cell_type": "code",
   "execution_count": 22,
   "metadata": {},
   "outputs": [
    {
     "data": {
      "text/html": [
       "<div>\n",
       "<style scoped>\n",
       "    .dataframe tbody tr th:only-of-type {\n",
       "        vertical-align: middle;\n",
       "    }\n",
       "\n",
       "    .dataframe tbody tr th {\n",
       "        vertical-align: top;\n",
       "    }\n",
       "\n",
       "    .dataframe thead th {\n",
       "        text-align: right;\n",
       "    }\n",
       "</style>\n",
       "<table border=\"1\" class=\"dataframe\">\n",
       "  <thead>\n",
       "    <tr style=\"text-align: right;\">\n",
       "      <th></th>\n",
       "      <th>DateTime</th>\n",
       "      <th>Day</th>\n",
       "      <th>Date</th>\n",
       "      <th>Time</th>\n",
       "      <th>Total</th>\n",
       "      <th>Westbound</th>\n",
       "      <th>Eastbound</th>\n",
       "    </tr>\n",
       "  </thead>\n",
       "  <tbody>\n",
       "    <tr>\n",
       "      <th>0</th>\n",
       "      <td>06/24/2015 12:00:00 AM</td>\n",
       "      <td>Wednesday</td>\n",
       "      <td>06/24/2015</td>\n",
       "      <td>00:00:00</td>\n",
       "      <td>4</td>\n",
       "      <td>1</td>\n",
       "      <td>3</td>\n",
       "    </tr>\n",
       "    <tr>\n",
       "      <th>1</th>\n",
       "      <td>06/24/2015 12:15:00 AM</td>\n",
       "      <td>Wednesday</td>\n",
       "      <td>06/24/2015</td>\n",
       "      <td>00:15:00</td>\n",
       "      <td>3</td>\n",
       "      <td>3</td>\n",
       "      <td>0</td>\n",
       "    </tr>\n",
       "    <tr>\n",
       "      <th>2</th>\n",
       "      <td>06/24/2015 12:30:00 AM</td>\n",
       "      <td>Wednesday</td>\n",
       "      <td>06/24/2015</td>\n",
       "      <td>00:30:00</td>\n",
       "      <td>4</td>\n",
       "      <td>3</td>\n",
       "      <td>1</td>\n",
       "    </tr>\n",
       "    <tr>\n",
       "      <th>3</th>\n",
       "      <td>06/24/2015 12:45:00 AM</td>\n",
       "      <td>Wednesday</td>\n",
       "      <td>06/24/2015</td>\n",
       "      <td>00:45:00</td>\n",
       "      <td>2</td>\n",
       "      <td>2</td>\n",
       "      <td>0</td>\n",
       "    </tr>\n",
       "    <tr>\n",
       "      <th>4</th>\n",
       "      <td>06/24/2015 01:00:00 AM</td>\n",
       "      <td>Wednesday</td>\n",
       "      <td>06/24/2015</td>\n",
       "      <td>01:00:00</td>\n",
       "      <td>2</td>\n",
       "      <td>2</td>\n",
       "      <td>0</td>\n",
       "    </tr>\n",
       "  </tbody>\n",
       "</table>\n",
       "</div>"
      ],
      "text/plain": [
       "                 DateTime        Day        Date       Time  Total  Westbound  \\\n",
       "0  06/24/2015 12:00:00 AM  Wednesday  06/24/2015   00:00:00      4          1   \n",
       "1  06/24/2015 12:15:00 AM  Wednesday  06/24/2015   00:15:00      3          3   \n",
       "2  06/24/2015 12:30:00 AM  Wednesday  06/24/2015   00:30:00      4          3   \n",
       "3  06/24/2015 12:45:00 AM  Wednesday  06/24/2015   00:45:00      2          2   \n",
       "4  06/24/2015 01:00:00 AM  Wednesday  06/24/2015   01:00:00      2          2   \n",
       "\n",
       "   Eastbound  \n",
       "0          3  \n",
       "1          0  \n",
       "2          1  \n",
       "3          0  \n",
       "4          0  "
      ]
     },
     "execution_count": 22,
     "metadata": {},
     "output_type": "execute_result"
    }
   ],
   "source": [
    "broad_bike_count.head()"
   ]
  },
  {
   "cell_type": "code",
   "execution_count": 23,
   "metadata": {},
   "outputs": [],
   "source": [
    "#this function will take input times and return the number of bikers in each time frame\n",
    "def bike_time_counter(dark_end, morn_dusk_end, daylight_end, eve_dusk_end, dataset, ):\n",
    "    amb_light_dict = {'dark':0,'dusk':0,'daylight':0}\n",
    "    all_time = dataset['Time']\n",
    "    all_count = dataset['Total']\n",
    "    for i in range(len(all_time)): \n",
    "        curr_time =  all_time.iloc[i]\n",
    "        curr_count = all_count.iloc[i]\n",
    "        curr_time = int(curr_time[1:3])\n",
    "        if dark_end > curr_time or curr_time > eve_dusk_end:\n",
    "            amb_light_dict['dark'] += curr_count\n",
    "        elif curr_time < morn_dusk_end or curr_time > daylight_end:\n",
    "            amb_light_dict['dusk'] += curr_count\n",
    "        else:\n",
    "            amb_light_dict['daylight'] += curr_count\n",
    "    return amb_light_dict\n",
    "        \n",
    "        "
   ]
  },
  {
   "cell_type": "code",
   "execution_count": 24,
   "metadata": {},
   "outputs": [
    {
     "name": "stdout",
     "output_type": "stream",
     "text": [
      "percent of biker riders during each light: {'dark': 5.88, 'dusk': 3.79, 'daylight': 90.33}\n"
     ]
    }
   ],
   "source": [
    "# for a rough estimate of the number of bikers at each type of light: \n",
    "# the number of hours of daylight vary throughout the year, the atumn equinox, Sept. 21 will be used as an estimate\n",
    "# Sept 21, 2019: night 8:18pm to 4:55am dusk/dawn: 4:55am to 6:30am daylight 6:30am to 6:43pm\n",
    "#daylight time source: https://www.timeanddate.com/sun/usa/boston?month=9\n",
    "\n",
    "\n",
    "#create dictionary of the bike counts at different ambient lights\n",
    "broad_bike_light = bike_time_counter(5, 6, 19, 20, broad_bike_count)\n",
    "\n",
    "#turn counts into %\n",
    "broad_light_perc = dict_percent(broad_bike_light)\n",
    "\n",
    "print('percent of biker riders during each light:', broad_light_perc)"
   ]
  },
  {
   "cell_type": "code",
   "execution_count": 25,
   "metadata": {},
   "outputs": [
    {
     "name": "stdout",
     "output_type": "stream",
     "text": [
      "% of crashes / percent of total riders:\n",
      "[2.85, 1.95, 0.84]\n",
      "['dark', 'dusk', 'daylight']\n"
     ]
    }
   ],
   "source": [
    "# calculate the ratio of bikers to crashs in different types of light\n",
    "norm_light = []\n",
    "key_list = []\n",
    "print('% of crashes / percent of total riders:')\n",
    "for key in broad_light_perc:\n",
    "    key_list.append(key)\n",
    "    norm_light.append(round(crash_light_percent[key]/broad_light_perc[key] ,2))\n",
    "    \n",
    "print(norm_light)\n",
    "print(key_list)\n"
   ]
  },
  {
   "cell_type": "markdown",
   "metadata": {},
   "source": [
    "## The ratio of number of bike rides the number of crashes involving bicycles is more than 3 times as high at night as it is during the day. This suggests that "
   ]
  },
  {
   "cell_type": "code",
   "execution_count": 26,
   "metadata": {},
   "outputs": [
    {
     "name": "stdout",
     "output_type": "stream",
     "text": [
      "only use data points prior to:  131983\n",
      "{'06': 171152, '07': 167907, '08': 172330, '09': 146972, '10': 124628, '11': 114770, '12': 73720, '01': 63826, '02': 68771, '03': 83782, '04': 111571, '05': 150639}\n"
     ]
    }
   ],
   "source": [
    "# look at bike crash breakdowns by month of year and normalize by bike riders in each month of year\n",
    "#the Broadway bike count list starts on 6/24/2015 and ends on 10/27/2019 \n",
    "#in the full dataset the dates of 6/24 - 10/27 are over represented in the dataset\n",
    "\n",
    "#to create a dataset where each day of the year is represented fairly, first find i of 6/24/2109\n",
    "important_list = broad_bike_count['Date']\n",
    "for i in range(len(important_list)):\n",
    "    if important_list.iloc[i] == '06/24/2019':\n",
    "        print('only use data points prior to: ', i)\n",
    "        stop_val = i\n",
    "        break \n",
    "\n",
    "#create a shortened dataframe to eliminate unequally representation of the different days \n",
    "broad_bike_count_cut = broad_bike_count[:stop_val] \n",
    "broad_bike_count.head()\n",
    "month_count_dict = {}\n",
    "\n",
    "#determine a count for each month of the year\n",
    "date_data = broad_bike_count_cut['Date']\n",
    "count_data = broad_bike_count_cut['Total']\n",
    "\n",
    "for i in range(len(date_data)):\n",
    "    curr_date = date_data.iloc[i] \n",
    "    curr_month = curr_date[:2]\n",
    "    curr_count = count_data.iloc[i]\n",
    "    if curr_month in month_count_dict:\n",
    "        month_count_dict[curr_month] += curr_count\n",
    "    else:\n",
    "        month_count_dict[curr_month] = curr_count\n",
    "print(month_count_dict)"
   ]
  },
  {
   "cell_type": "code",
   "execution_count": 27,
   "metadata": {},
   "outputs": [
    {
     "data": {
      "text/plain": [
       "<BarContainer object of 12 artists>"
      ]
     },
     "execution_count": 27,
     "metadata": {},
     "output_type": "execute_result"
    },
    {
     "data": {
      "image/png": "[encoded data removed]",
      "text/plain": [
       "<Figure size 1080x288 with 1 Axes>"
      ]
     },
     "metadata": {
      "needs_background": "light"
     },
     "output_type": "display_data"
    }
   ],
   "source": [
    "# plot the number of riders per month\n",
    "plt.bar(month_count_dict.keys(), month_count_dict.values())"
   ]
  },
  {
   "cell_type": "code",
   "execution_count": 28,
   "metadata": {},
   "outputs": [
    {
     "name": "stdout",
     "output_type": "stream",
     "text": [
      "{'06': 11.8, '07': 11.58, '08': 11.88, '09': 10.14, '10': 8.59, '11': 7.91, '12': 5.08, '01': 4.4, '02': 4.74, '03': 5.78, '04': 7.69, '05': 10.39}\n"
     ]
    }
   ],
   "source": [
    "monthly_perc_bikers = dict_percent(month_count_dict)\n",
    "print(monthly_perc_bikers)"
   ]
  },
  {
   "cell_type": "code",
   "execution_count": 29,
   "metadata": {},
   "outputs": [
    {
     "name": "stdout",
     "output_type": "stream",
     "text": [
      "{'01': 27, '02': 41, '03': 39, '04': 55, '05': 69, '06': 66, '07': 68, '08': 91, '09': 95, '10': 93, '11': 56, '12': 34}\n"
     ]
    },
    {
     "data": {
      "image/png": "[encoded data removed]",
      "text/plain": [
       "<Figure size 1080x288 with 1 Axes>"
      ]
     },
     "metadata": {
      "needs_background": "light"
     },
     "output_type": "display_data"
    }
   ],
   "source": [
    "# now determine the number of bicycle crashes each month\n",
    "crash_dates = new_bike_crash_lim['Date Time']\n",
    "\n",
    "#python 3 insertion order is guarenteed, so initialize dict with values to maintain correct order\n",
    "month_crash_count_dict = {'01':0, '02':0, '03':0, '04':0,'05':0, '06':0, '07':0, '08':0, '09':0, '10':0, '11':0,}\n",
    "for i in range(len(crash_dates)):\n",
    "    curr_date = crash_dates.iloc[i] \n",
    "    curr_month = curr_date[:2]\n",
    "    if curr_month in month_crash_count_dict:\n",
    "        month_crash_count_dict[curr_month] += 1\n",
    "    else:\n",
    "        month_crash_count_dict[curr_month] = 1\n",
    "        \n",
    "print(month_crash_count_dict)\n",
    "\n",
    "\n",
    "plt.bar(month_crash_count_dict.keys(), month_crash_count_dict.values())\n",
    "month_perc_crashes = dict_percent(month_crash_count_dict)"
   ]
  },
  {
   "cell_type": "code",
   "execution_count": 30,
   "metadata": {},
   "outputs": [
    {
     "data": {
      "text/plain": [
       "<BarContainer object of 12 artists>"
      ]
     },
     "execution_count": 30,
     "metadata": {},
     "output_type": "execute_result"
    },
    {
     "data": {
      "image/png": "[encoded data removed]",
      "text/plain": [
       "<Figure size 1080x288 with 1 Axes>"
      ]
     },
     "metadata": {
      "needs_background": "light"
     },
     "output_type": "display_data"
    }
   ],
   "source": [
    "#normalize the number of crashes per month by number of bikers per month\n",
    "norm_crash_month = {}\n",
    "for i in month_perc_crashes.keys():\n",
    "    norm_crash_month[i] = round(month_perc_crashes[i] / monthly_perc_bikers[i],2)\n",
    "\n",
    "#print(norm_crash_month)\n",
    "norm_crash_month_perc = dict_percent(norm_crash_month)\n",
    "plt.bar(norm_crash_month_perc.keys(), norm_crash_month_perc.values())"
   ]
  },
  {
   "cell_type": "code",
   "execution_count": 31,
   "metadata": {},
   "outputs": [],
   "source": [
    "# add values to plot if possible"
   ]
  },
  {
   "cell_type": "markdown",
   "metadata": {},
   "source": [
    "## The months with the highest number of bicycle crashes normalized to the number of bikers are February, September, and October (the highest)"
   ]
  },
  {
   "cell_type": "code",
   "execution_count": null,
   "metadata": {},
   "outputs": [],
   "source": []
  }
 ],
 "metadata": {
  "kernelspec": {
   "display_name": "Python 3",
   "language": "python",
   "name": "python3"
  },
  "language_info": {
   "codemirror_mode": {
    "name": "ipython",
    "version": 3
   },
   "file_extension": ".py",
   "mimetype": "text/x-python",
   "name": "python",
   "nbconvert_exporter": "python",
   "pygments_lexer": "ipython3",
   "version": "3.7.3"
  }
 },
 "nbformat": 4,
 "nbformat_minor": 2
}
