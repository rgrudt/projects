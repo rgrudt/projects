{
 "cells": [
  {
   "cell_type": "markdown",
   "metadata": {},
   "source": [
    "#    This notebook is an exploration of Cambridge, Massachusettes bike data\n",
    "#### Part 1: A brief look at the demographics of bikers of Cambridge and how biking in Cambridge has changed over time\n",
    "#### Part 2: A more in depth look at crashes involving bicycles over time. \n",
    "\n",
    "###### Begun 10/28/19\n",
    "   ###### Note: This is a work in progress and is expected to be completed no later than 12/7/2019"
   ]
  },
  {
   "cell_type": "markdown",
   "metadata": {},
   "source": [
    "### Log of data included in this project\n",
    "#### - transport_data: Labor Force Commuting Mode Split: 1990, 2000, 2006 - 2010, and 2012 - 2016. From data.cambridgema.gov: \"This data set compares 1990, 2000, 2006 - 2010, and 2012-16 Journey to Work data, outlining the modes of commuting for the Labor Force of the City of Cambridge, regardless of workplace location. The data set originates from three sources: 1990 Journey to Work data supplied to the Massachusetts Central Transportation Planning Staff by the Census Bureau, a special tabulation of 2000 Decennial Census data - the 2000 Census Transportation Planning Products (CTPP), and the two most recent versions of the CTPP compiled from the American Community Survey. The Cambridge Labor Force consist of all Cambridge residents who work or who are currently seeking work, regardless of workplace location.\" https://data.cambridgema.gov/Transportation-Planning/Labor-Force-Commuting-Mode-Split-1990-2000-2006-20/8acn-zxjt\n",
    "#### - new_crash_data: List of crashes involving motor vehicles, bicycles and/or pedestrians reported in the City of Cambridge since 2015. https://data.cambridgema.gov/Public-Safety/Police-Department-Crash-Data-Updated/gb5w-yva3\n",
    "#### - nbr_data: Blockgroup data from the 2013-2017 American Community Survey was recompiled by the Cambridge Community Development Department to align with approximate neighborhood boundaries. Categories include: Total Population, Language Spoken at Home by Population 5 and Older, Educational Attainment by Population 25 and Older, Means of Commute for Resident Workers, Vehicles Owned by Household, Per Capita Income, and Poverty Rates. https://data.cambridgema.gov/Neighborhood-Census-Data/American-Community-Survey-2013-17-Estimates-by-Nei/m9gy-vc6p\n",
    "#### - broad_bike_count: The “Eco-Totem” counter (made by the Montreal-based company Eco-Counter) counts cyclists via in-ground loop detectors embedded under the pavement of Broadway near Kendall Square. https://data.cambridgema.gov/dataset/Eco-Totem-Broadway-Bicycle-Count/q8v9-mcfg\n"
   ]
  },
  {
   "cell_type": "code",
   "execution_count": 79,
   "metadata": {},
   "outputs": [],
   "source": [
    "import pandas as pd\n",
    "import os \n",
    "import matplotlib.pyplot as plt\n",
    "from pylab import rcParams\n",
    "import numpy as np\n",
    "from bs4 import BeautifulSoup\n",
    "import requests\n",
    "import math"
   ]
  },
  {
   "cell_type": "code",
   "execution_count": 3,
   "metadata": {},
   "outputs": [
    {
     "name": "stderr",
     "output_type": "stream",
     "text": [
      "//anaconda3/lib/python3.7/site-packages/IPython/core/interactiveshell.py:3057: DtypeWarning: Columns (81,110,115) have mixed types. Specify dtype option on import or set low_memory=False.\n",
      "  interactivity=interactivity, compiler=compiler, result=result)\n"
     ]
    },
    {
     "data": {
      "text/html": [
       "<div>\n",
       "<style scoped>\n",
       "    .dataframe tbody tr th:only-of-type {\n",
       "        vertical-align: middle;\n",
       "    }\n",
       "\n",
       "    .dataframe tbody tr th {\n",
       "        vertical-align: top;\n",
       "    }\n",
       "\n",
       "    .dataframe thead th {\n",
       "        text-align: right;\n",
       "    }\n",
       "</style>\n",
       "<table border=\"1\" class=\"dataframe\">\n",
       "  <thead>\n",
       "    <tr style=\"text-align: right;\">\n",
       "      <th></th>\n",
       "      <th>DateTime</th>\n",
       "      <th>Day</th>\n",
       "      <th>Date</th>\n",
       "      <th>Time</th>\n",
       "      <th>Total</th>\n",
       "      <th>Westbound</th>\n",
       "      <th>Eastbound</th>\n",
       "    </tr>\n",
       "  </thead>\n",
       "  <tbody>\n",
       "    <tr>\n",
       "      <th>0</th>\n",
       "      <td>06/24/2015 12:00:00 AM</td>\n",
       "      <td>Wednesday</td>\n",
       "      <td>06/24/2015</td>\n",
       "      <td>00:00:00</td>\n",
       "      <td>4</td>\n",
       "      <td>1</td>\n",
       "      <td>3</td>\n",
       "    </tr>\n",
       "    <tr>\n",
       "      <th>1</th>\n",
       "      <td>06/24/2015 12:15:00 AM</td>\n",
       "      <td>Wednesday</td>\n",
       "      <td>06/24/2015</td>\n",
       "      <td>00:15:00</td>\n",
       "      <td>3</td>\n",
       "      <td>3</td>\n",
       "      <td>0</td>\n",
       "    </tr>\n",
       "    <tr>\n",
       "      <th>2</th>\n",
       "      <td>06/24/2015 12:30:00 AM</td>\n",
       "      <td>Wednesday</td>\n",
       "      <td>06/24/2015</td>\n",
       "      <td>00:30:00</td>\n",
       "      <td>4</td>\n",
       "      <td>3</td>\n",
       "      <td>1</td>\n",
       "    </tr>\n",
       "    <tr>\n",
       "      <th>3</th>\n",
       "      <td>06/24/2015 12:45:00 AM</td>\n",
       "      <td>Wednesday</td>\n",
       "      <td>06/24/2015</td>\n",
       "      <td>00:45:00</td>\n",
       "      <td>2</td>\n",
       "      <td>2</td>\n",
       "      <td>0</td>\n",
       "    </tr>\n",
       "    <tr>\n",
       "      <th>4</th>\n",
       "      <td>06/24/2015 01:00:00 AM</td>\n",
       "      <td>Wednesday</td>\n",
       "      <td>06/24/2015</td>\n",
       "      <td>01:00:00</td>\n",
       "      <td>2</td>\n",
       "      <td>2</td>\n",
       "      <td>0</td>\n",
       "    </tr>\n",
       "  </tbody>\n",
       "</table>\n",
       "</div>"
      ],
      "text/plain": [
       "                 DateTime        Day        Date       Time  Total  Westbound  \\\n",
       "0  06/24/2015 12:00:00 AM  Wednesday  06/24/2015   00:00:00      4          1   \n",
       "1  06/24/2015 12:15:00 AM  Wednesday  06/24/2015   00:15:00      3          3   \n",
       "2  06/24/2015 12:30:00 AM  Wednesday  06/24/2015   00:30:00      4          3   \n",
       "3  06/24/2015 12:45:00 AM  Wednesday  06/24/2015   00:45:00      2          2   \n",
       "4  06/24/2015 01:00:00 AM  Wednesday  06/24/2015   01:00:00      2          2   \n",
       "\n",
       "   Eastbound  \n",
       "0          3  \n",
       "1          0  \n",
       "2          1  \n",
       "3          0  \n",
       "4          0  "
      ]
     },
     "execution_count": 3,
     "metadata": {},
     "output_type": "execute_result"
    }
   ],
   "source": [
    "#This cell imports all datasets used in this data exploration\n",
    "trans_data = pd.read_csv('Labor_Force_Commuting.csv')\n",
    "\n",
    "new_crash_data = pd.read_csv('Police_crash_data.csv')\n",
    "\n",
    "nbr_data = pd.read_csv('Neighborhood_economic_data.csv')\n",
    "\n",
    "broad_bike_count = pd.read_csv('Broadway_bike_count.csv')\n",
    "\n",
    "broad_bike_count.head()\n"
   ]
  },
  {
   "cell_type": "code",
   "execution_count": 24,
   "metadata": {},
   "outputs": [
    {
     "data": {
      "text/html": [
       "<div>\n",
       "<style scoped>\n",
       "    .dataframe tbody tr th:only-of-type {\n",
       "        vertical-align: middle;\n",
       "    }\n",
       "\n",
       "    .dataframe tbody tr th {\n",
       "        vertical-align: top;\n",
       "    }\n",
       "\n",
       "    .dataframe thead th {\n",
       "        text-align: right;\n",
       "    }\n",
       "</style>\n",
       "<table border=\"1\" class=\"dataframe\">\n",
       "  <thead>\n",
       "    <tr style=\"text-align: right;\">\n",
       "      <th></th>\n",
       "      <th>Month</th>\n",
       "      <th>Month Number</th>\n",
       "      <th>Min Temp</th>\n",
       "      <th>Max Temp</th>\n",
       "      <th>Avg Temp</th>\n",
       "      <th>Avg Precipitation</th>\n",
       "    </tr>\n",
       "  </thead>\n",
       "  <tbody>\n",
       "    <tr>\n",
       "      <th>0</th>\n",
       "      <td>January</td>\n",
       "      <td>01</td>\n",
       "      <td>23</td>\n",
       "      <td>40</td>\n",
       "      <td>31</td>\n",
       "      <td>3.2</td>\n",
       "    </tr>\n",
       "    <tr>\n",
       "      <th>1</th>\n",
       "      <td>February</td>\n",
       "      <td>02</td>\n",
       "      <td>22</td>\n",
       "      <td>41</td>\n",
       "      <td>31</td>\n",
       "      <td>3.2</td>\n",
       "    </tr>\n",
       "    <tr>\n",
       "      <th>2</th>\n",
       "      <td>March</td>\n",
       "      <td>03</td>\n",
       "      <td>29</td>\n",
       "      <td>48</td>\n",
       "      <td>38</td>\n",
       "      <td>3.8</td>\n",
       "    </tr>\n",
       "    <tr>\n",
       "      <th>3</th>\n",
       "      <td>April</td>\n",
       "      <td>04</td>\n",
       "      <td>40</td>\n",
       "      <td>61</td>\n",
       "      <td>49</td>\n",
       "      <td>3.7</td>\n",
       "    </tr>\n",
       "    <tr>\n",
       "      <th>4</th>\n",
       "      <td>May</td>\n",
       "      <td>05</td>\n",
       "      <td>50</td>\n",
       "      <td>69</td>\n",
       "      <td>58</td>\n",
       "      <td>3.8</td>\n",
       "    </tr>\n",
       "  </tbody>\n",
       "</table>\n",
       "</div>"
      ],
      "text/plain": [
       "      Month Month Number  Min Temp  Max Temp  Avg Temp  Avg Precipitation\n",
       "0   January           01        23        40        31                3.2\n",
       "1  February           02        22        41        31                3.2\n",
       "2     March           03        29        48        38                3.8\n",
       "3     April           04        40        61        49                3.7\n",
       "4       May           05        50        69        58                3.8"
      ]
     },
     "execution_count": 24,
     "metadata": {},
     "output_type": "execute_result"
    }
   ],
   "source": [
    "# this cell webscrapes monthly weather data for Cambridge\n",
    "page = requests.get(\"https://www.areavibes.com/cambridge-ma/weather/\")\n",
    "soup = BeautifulSoup(page.content, 'html.parser')\n",
    "table = soup.find(class_ = \"av-default\").get_text()\n",
    "\n",
    "month_list = ['January', 'February', 'March', 'April', 'May', 'June', 'July', \n",
    "              'August', 'September', 'October', 'November', 'December']\n",
    "num_month_list = ['01', '02', '03', '04', '05', '06', '07', '08', '09', '10', '11', '12']\n",
    "\n",
    "#find each month in the scraped table and collect the corresponding temperature and precipitation data\n",
    "max_temp = []\n",
    "min_temp = []\n",
    "avg_temp = []\n",
    "avg_precip = []\n",
    "\n",
    "for month in month_list:\n",
    "    start = table.index(month)+len(month)\n",
    "    min_temp.append(int(table[start:start+2]))\n",
    "    max_temp.append(int(table[start+4:start+6]))\n",
    "    avg_temp.append(int(table[start+8:start+10]))\n",
    "    avg_precip.append(float(table[start+12:start+15]))\n",
    "\n",
    "monthly_weather = pd.DataFrame({\"Month\": month_list, \"Month Number\": num_month_list, \"Min Temp\": min_temp, \"Max Temp\": max_temp, \"Avg Temp\": avg_temp, \"Avg Precipitation\": avg_precip})\n",
    "monthly_weather.head()\n",
    "        "
   ]
  },
  {
   "cell_type": "markdown",
   "metadata": {},
   "source": [
    "## Part 1: Biker demographics and changes over time"
   ]
  },
  {
   "cell_type": "code",
   "execution_count": 25,
   "metadata": {},
   "outputs": [
    {
     "data": {
      "text/html": [
       "<div>\n",
       "<style scoped>\n",
       "    .dataframe tbody tr th:only-of-type {\n",
       "        vertical-align: middle;\n",
       "    }\n",
       "\n",
       "    .dataframe tbody tr th {\n",
       "        vertical-align: top;\n",
       "    }\n",
       "\n",
       "    .dataframe thead th {\n",
       "        text-align: right;\n",
       "    }\n",
       "</style>\n",
       "<table border=\"1\" class=\"dataframe\">\n",
       "  <thead>\n",
       "    <tr style=\"text-align: right;\">\n",
       "      <th></th>\n",
       "      <th>Census Tract</th>\n",
       "      <th>Year</th>\n",
       "      <th>Population</th>\n",
       "      <th>Total Laborforce</th>\n",
       "      <th>% of Total Laborforce</th>\n",
       "      <th>Drove Alone</th>\n",
       "      <th>Carpool</th>\n",
       "      <th>Public Transit</th>\n",
       "      <th>Bike</th>\n",
       "      <th>Walk</th>\n",
       "      <th>Other Mode</th>\n",
       "      <th>Work at Home</th>\n",
       "    </tr>\n",
       "  </thead>\n",
       "  <tbody>\n",
       "    <tr>\n",
       "      <th>0</th>\n",
       "      <td>Citywide</td>\n",
       "      <td>1990</td>\n",
       "      <td>95802</td>\n",
       "      <td>52355</td>\n",
       "      <td>100.0</td>\n",
       "      <td>37.7</td>\n",
       "      <td>7.5</td>\n",
       "      <td>23.4</td>\n",
       "      <td>2.9</td>\n",
       "      <td>24.2</td>\n",
       "      <td>0.9</td>\n",
       "      <td>3.4</td>\n",
       "    </tr>\n",
       "    <tr>\n",
       "      <th>1</th>\n",
       "      <td>Citywide</td>\n",
       "      <td>2000</td>\n",
       "      <td>101355</td>\n",
       "      <td>54979</td>\n",
       "      <td>100.0</td>\n",
       "      <td>35.3</td>\n",
       "      <td>5.2</td>\n",
       "      <td>24.9</td>\n",
       "      <td>3.9</td>\n",
       "      <td>24.3</td>\n",
       "      <td>1.1</td>\n",
       "      <td>5.3</td>\n",
       "    </tr>\n",
       "    <tr>\n",
       "      <th>2</th>\n",
       "      <td>Citywide</td>\n",
       "      <td>2006-2010</td>\n",
       "      <td>103506</td>\n",
       "      <td>56910</td>\n",
       "      <td>100.0</td>\n",
       "      <td>30.7</td>\n",
       "      <td>4.6</td>\n",
       "      <td>28.1</td>\n",
       "      <td>6.8</td>\n",
       "      <td>22.7</td>\n",
       "      <td>1.1</td>\n",
       "      <td>6.1</td>\n",
       "    </tr>\n",
       "    <tr>\n",
       "      <th>131</th>\n",
       "      <td>Citywide</td>\n",
       "      <td>2012-2016</td>\n",
       "      <td>108755</td>\n",
       "      <td>61930</td>\n",
       "      <td>100.0</td>\n",
       "      <td>28.2</td>\n",
       "      <td>3.5</td>\n",
       "      <td>28.9</td>\n",
       "      <td>7.0</td>\n",
       "      <td>24.6</td>\n",
       "      <td>1.0</td>\n",
       "      <td>6.8</td>\n",
       "    </tr>\n",
       "  </tbody>\n",
       "</table>\n",
       "</div>"
      ],
      "text/plain": [
       "    Census Tract       Year  Population  Total Laborforce  \\\n",
       "0       Citywide       1990       95802             52355   \n",
       "1       Citywide       2000      101355             54979   \n",
       "2       Citywide  2006-2010      103506             56910   \n",
       "131     Citywide  2012-2016      108755             61930   \n",
       "\n",
       "     % of Total Laborforce  Drove Alone  Carpool  Public Transit  Bike  Walk  \\\n",
       "0                    100.0         37.7      7.5            23.4   2.9  24.2   \n",
       "1                    100.0         35.3      5.2            24.9   3.9  24.3   \n",
       "2                    100.0         30.7      4.6            28.1   6.8  22.7   \n",
       "131                  100.0         28.2      3.5            28.9   7.0  24.6   \n",
       "\n",
       "     Other Mode  Work at Home  \n",
       "0           0.9           3.4  \n",
       "1           1.1           5.3  \n",
       "2           1.1           6.1  \n",
       "131         1.0           6.8  "
      ]
     },
     "execution_count": 25,
     "metadata": {},
     "output_type": "execute_result"
    }
   ],
   "source": [
    "#begin investigation by comparing citywide data by year (trans_data also includes data broken down by )\n",
    "city_trans_data  = trans_data.loc[trans_data['Census Tract'] == 'Citywide']\n",
    "city_trans_data.head()\n"
   ]
  },
  {
   "cell_type": "markdown",
   "metadata": {},
   "source": [
    "### Comparision of the population of Cambridge vs different commute methods"
   ]
  },
  {
   "cell_type": "code",
   "execution_count": 6,
   "metadata": {},
   "outputs": [
    {
     "data": {
      "text/plain": [
       "<function matplotlib.pyplot.tight_layout(pad=1.08, h_pad=None, w_pad=None, rect=None)>"
      ]
     },
     "execution_count": 6,
     "metadata": {},
     "output_type": "execute_result"
    },
    {
     "data": {
      "image/png": "[encoded data removed]",
      "text/plain": [
       "<Figure size 648x576 with 4 Axes>"
      ]
     },
     "metadata": {
      "needs_background": "light"
     },
     "output_type": "display_data"
    }
   ],
   "source": [
    "rcParams['figure.figsize'] = 9, 8\n",
    "years = [1990, 2000, 2008, 2014]\n",
    "plt.subplot(2,2,1)\n",
    "plt.scatter(years,city_trans_data['Bike'])\n",
    "plt.xlabel('Year')\n",
    "plt.ylabel('% of population')\n",
    "plt.title('Bike')\n",
    "plt.subplot(2,2,2)\n",
    "plt.scatter(years, city_trans_data['Public Transit'])\n",
    "plt.title('Public Transportation')\n",
    "plt.xlabel('Year')\n",
    "plt.ylabel('% of population')\n",
    "plt.subplot(2,2,3)\n",
    "plt.scatter(years, city_trans_data['Drove Alone'])\n",
    "plt.title('Drove Alone')\n",
    "plt.xlabel('Year')\n",
    "plt.ylabel('% of population')\n",
    "plt.subplot(2,2,4)\n",
    "plt.scatter(years,city_trans_data['Carpool'])\n",
    "plt.title('Carpool')\n",
    "plt.xlabel('Year')\n",
    "plt.ylabel('% of population')\n",
    "plt.tight_layout"
   ]
  },
  {
   "cell_type": "markdown",
   "metadata": {},
   "source": [
    "#### As the population of Cambridge has grown, the percentage of the population commuting via bicycle and public transit has also increased. The percentage of Cambridge residents carpooling and driving by themselves to work has decreased. Overall Cambridge residents are commuting less by car and more by alternate means of transportation than they were 20, 10, and even 5 years ago."
   ]
  },
  {
   "cell_type": "code",
   "execution_count": 7,
   "metadata": {},
   "outputs": [
    {
     "data": {
      "text/html": [
       "<div>\n",
       "<style scoped>\n",
       "    .dataframe tbody tr th:only-of-type {\n",
       "        vertical-align: middle;\n",
       "    }\n",
       "\n",
       "    .dataframe tbody tr th {\n",
       "        vertical-align: top;\n",
       "    }\n",
       "\n",
       "    .dataframe thead th {\n",
       "        text-align: right;\n",
       "    }\n",
       "</style>\n",
       "<table border=\"1\" class=\"dataframe\">\n",
       "  <thead>\n",
       "    <tr style=\"text-align: right;\">\n",
       "      <th></th>\n",
       "      <th>Date</th>\n",
       "      <th>Count</th>\n",
       "    </tr>\n",
       "  </thead>\n",
       "  <tbody>\n",
       "    <tr>\n",
       "      <th>0</th>\n",
       "      <td>01/01/2016</td>\n",
       "      <td>157</td>\n",
       "    </tr>\n",
       "    <tr>\n",
       "      <th>1</th>\n",
       "      <td>01/01/2017</td>\n",
       "      <td>124</td>\n",
       "    </tr>\n",
       "    <tr>\n",
       "      <th>2</th>\n",
       "      <td>01/01/2018</td>\n",
       "      <td>40</td>\n",
       "    </tr>\n",
       "    <tr>\n",
       "      <th>3</th>\n",
       "      <td>01/01/2019</td>\n",
       "      <td>169</td>\n",
       "    </tr>\n",
       "    <tr>\n",
       "      <th>4</th>\n",
       "      <td>01/02/2016</td>\n",
       "      <td>192</td>\n",
       "    </tr>\n",
       "  </tbody>\n",
       "</table>\n",
       "</div>"
      ],
      "text/plain": [
       "         Date  Count\n",
       "0  01/01/2016    157\n",
       "1  01/01/2017    124\n",
       "2  01/01/2018     40\n",
       "3  01/01/2019    169\n",
       "4  01/02/2016    192"
      ]
     },
     "execution_count": 7,
     "metadata": {},
     "output_type": "execute_result"
    }
   ],
   "source": [
    "#plot the number of bikers each day \n",
    "#broad_bike_count breaks down num of bikers into 15 min increments, want to switch to days\n",
    "pd.to_datetime(broad_bike_count['Date'])\n",
    "broad_bike_count = broad_bike_count.sort_values(by='Date')\n",
    "date_col = broad_bike_count['Date']\n",
    "count_col = broad_bike_count['Total']\n",
    "\n",
    "prev_date = date_col.iloc[1]\n",
    "prev_count = 0\n",
    "date_list = []\n",
    "count_list = []\n",
    "for i in range(len(date_col)):\n",
    "    curr_date = date_col.iloc[i]\n",
    "    curr_count = int(count_col.iloc[i])\n",
    "    if curr_date == prev_date:\n",
    "        curr_count += prev_count\n",
    "    else:\n",
    "        date_list.append(prev_date)\n",
    "        count_list.append(prev_count)\n",
    "    prev_date = curr_date\n",
    "    prev_count = curr_count\n",
    "\n",
    "daily_bike_count = pd.DataFrame({'Date':date_list, 'Count': count_list})\n",
    "daily_bike_count.head(5)"
   ]
  },
  {
   "cell_type": "code",
   "execution_count": 8,
   "metadata": {},
   "outputs": [
    {
     "data": {
      "text/plain": [
       "<matplotlib.collections.PathCollection at 0x11f9486a0>"
      ]
     },
     "execution_count": 8,
     "metadata": {},
     "output_type": "execute_result"
    },
    {
     "data": {
      "image/png": "[encoded data removed]",
      "text/plain": [
       "<Figure size 648x576 with 1 Axes>"
      ]
     },
     "metadata": {
      "needs_background": "light"
     },
     "output_type": "display_data"
    }
   ],
   "source": [
    "plt.scatter(daily_bike_count['Date'], daily_bike_count['Count'])"
   ]
  },
  {
   "cell_type": "code",
   "execution_count": 21,
   "metadata": {},
   "outputs": [
    {
     "data": {
      "text/html": [
       "<div>\n",
       "<style scoped>\n",
       "    .dataframe tbody tr th:only-of-type {\n",
       "        vertical-align: middle;\n",
       "    }\n",
       "\n",
       "    .dataframe tbody tr th {\n",
       "        vertical-align: top;\n",
       "    }\n",
       "\n",
       "    .dataframe thead th {\n",
       "        text-align: right;\n",
       "    }\n",
       "</style>\n",
       "<table border=\"1\" class=\"dataframe\">\n",
       "  <thead>\n",
       "    <tr style=\"text-align: right;\">\n",
       "      <th></th>\n",
       "      <th>Month</th>\n",
       "      <th>Years</th>\n",
       "      <th>Count</th>\n",
       "    </tr>\n",
       "  </thead>\n",
       "  <tbody>\n",
       "    <tr>\n",
       "      <th>0</th>\n",
       "      <td>01</td>\n",
       "      <td>2016</td>\n",
       "      <td>17526</td>\n",
       "    </tr>\n",
       "    <tr>\n",
       "      <th>1</th>\n",
       "      <td>01</td>\n",
       "      <td>2017</td>\n",
       "      <td>17450</td>\n",
       "    </tr>\n",
       "    <tr>\n",
       "      <th>2</th>\n",
       "      <td>01</td>\n",
       "      <td>2018</td>\n",
       "      <td>11837</td>\n",
       "    </tr>\n",
       "    <tr>\n",
       "      <th>3</th>\n",
       "      <td>01</td>\n",
       "      <td>2019</td>\n",
       "      <td>18537</td>\n",
       "    </tr>\n",
       "    <tr>\n",
       "      <th>4</th>\n",
       "      <td>02</td>\n",
       "      <td>2016</td>\n",
       "      <td>18331</td>\n",
       "    </tr>\n",
       "  </tbody>\n",
       "</table>\n",
       "</div>"
      ],
      "text/plain": [
       "  Month Years  Count\n",
       "0    01  2016  17526\n",
       "1    01  2017  17450\n",
       "2    01  2018  11837\n",
       "3    01  2019  18537\n",
       "4    02  2016  18331"
      ]
     },
     "execution_count": 21,
     "metadata": {},
     "output_type": "execute_result"
    }
   ],
   "source": [
    "#this is a lot of data points, want to switch to monthly count instead\n",
    "\n",
    "date_col = daily_bike_count['Date']\n",
    "count_col = daily_bike_count['Count']\n",
    "\n",
    "count_list = []\n",
    "month_count_dict ={}\n",
    "\n",
    "for i in range(len(date_col)):\n",
    "    \n",
    "    count = int(count_col.iloc[i])\n",
    "    month_year = str(date_col.iloc[i][:2]) + str(date_col.iloc[i][6:])\n",
    "    \n",
    "    if month_year in month_count_dict:\n",
    "        month_count_dict[month_year] += count\n",
    "    else:\n",
    "        month_count_dict[month_year] = count\n",
    "\n",
    "#remove 06/2015 because counter started mid way through this month\n",
    "month_count_dict.pop('062015')\n",
    "        \n",
    "month_years = list(month_count_dict.keys())\n",
    "months = []\n",
    "years = []\n",
    "for i in month_years:\n",
    "    months.append(i[0:2])\n",
    "    years.append(i[2:])\n",
    "count = list(month_count_dict.values())\n",
    "\n",
    "monthly_bike_count = pd.DataFrame({'Month': months, 'Years': years, 'Count': count})\n",
    "monthly_bike_count.head()"
   ]
  },
  {
   "cell_type": "code",
   "execution_count": 36,
   "metadata": {},
   "outputs": [
    {
     "data": {
      "image/png": "[encoded data removed]",
      "text/plain": [
       "<Figure size 648x576 with 2 Axes>"
      ]
     },
     "metadata": {
      "needs_background": "light"
     },
     "output_type": "display_data"
    }
   ],
   "source": [
    "#compare the number of riders per month to the average monthly temperature\n",
    "months = monthly_bike_count['Month']\n",
    "bike_count = monthly_bike_count['Count']\n",
    "avg_temp = monthly_weather['Avg Temp']\n",
    "\n",
    "fig, ax1 = plt.subplots()\n",
    "\n",
    "color = 'tab:red'\n",
    "ax1.set_xlabel('Month')\n",
    "ax1.set_ylabel('Number of Bikes', color=color)\n",
    "ax1.scatter(months, bike_count, color=color)\n",
    "ax1.tick_params(axis='y', labelcolor=color)\n",
    "\n",
    "ax2 = ax1.twinx()  # instantiate a second axes that shares the same x-axis\n",
    "\n",
    "color = 'tab:blue'\n",
    "ax2.set_ylabel('Average Temperature', color=color)  # we already handled the x-label with ax1\n",
    "ax2.scatter(monthly_weather['Month Number'], avg_temp, color=color, s=80)\n",
    "ax2.tick_params(axis='y', labelcolor=color)\n",
    "\n",
    "fig.tight_layout()  # otherwise the right y-label is slightly clipped\n"
   ]
  },
  {
   "cell_type": "markdown",
   "metadata": {},
   "source": [
    "### There is a clear correlation between monthly temperature and the number of bike riders"
   ]
  },
  {
   "cell_type": "markdown",
   "metadata": {},
   "source": [
    "## Demographic data of bike commuters in Cambridge"
   ]
  },
  {
   "cell_type": "code",
   "execution_count": 173,
   "metadata": {},
   "outputs": [
    {
     "data": {
      "image/png": "[encoded data removed]",
      "text/plain": [
       "<Figure size 1080x288 with 3 Axes>"
      ]
     },
     "metadata": {
      "needs_background": "light"
     },
     "output_type": "display_data"
    }
   ],
   "source": [
    "#plot the demographics of bikers in Cambridge\n",
    "\n",
    "rcParams['figure.figsize'] = 15, 4\n",
    "x_list = [nbr_data['Bachelors or Graduate Degrees %'], nbr_data['No Vehicles Available %'], nbr_data['Per Capita Income']]\n",
    "x_label_list = ['% of Neighborhood with Bachelors or Graduate Degree', '% of Neighborhood with No Vehicles Available', 'Neighborhood Per Capita Income']\n",
    "\n",
    "for i in range(1, 4):\n",
    "    plt.subplot(1, 3, i)\n",
    "    x = x_list[(i-1)]\n",
    "    y = nbr_data['Resident Commute: Bike %']\n",
    "    plt.scatter(x, y)\n",
    "    plt.xlabel(x_label_list[i-1])\n",
    "    plt.ylabel('% of Neighborhood who commute by bike')\n",
    "    #z = np.polyfit(x, y, 1)\n",
    "    #p = np.poly1d(z)\n",
    "    #plt.plot(x,p(x),\"r--\")\n",
    "\n",
    "plt.tight_layout()"
   ]
  },
  {
   "cell_type": "markdown",
   "metadata": {},
   "source": [
    "## A  visual inspection of the effect of different demographic factors (% with bachelor's of graduate degree, % with no vehicle available, per capita income) on the % of neighborhood members who ride their bikes to work does not show strong correlation between any of the different factors. "
   ]
  },
  {
   "cell_type": "markdown",
   "metadata": {},
   "source": [
    "# Part 2: Bike safety in Cambridge: Bike Crash Data"
   ]
  },
  {
   "cell_type": "code",
   "execution_count": 46,
   "metadata": {},
   "outputs": [
    {
     "data": {
      "text/html": [
       "<div>\n",
       "<style scoped>\n",
       "    .dataframe tbody tr th:only-of-type {\n",
       "        vertical-align: middle;\n",
       "    }\n",
       "\n",
       "    .dataframe tbody tr th {\n",
       "        vertical-align: top;\n",
       "    }\n",
       "\n",
       "    .dataframe thead th {\n",
       "        text-align: right;\n",
       "    }\n",
       "</style>\n",
       "<table border=\"1\" class=\"dataframe\">\n",
       "  <thead>\n",
       "    <tr style=\"text-align: right;\">\n",
       "      <th></th>\n",
       "      <th>Date Time</th>\n",
       "      <th>Day of Week</th>\n",
       "      <th>Ambient Light</th>\n",
       "      <th>Weather Condition 1</th>\n",
       "      <th>Road Surface Condition</th>\n",
       "      <th>v1 State Code</th>\n",
       "    </tr>\n",
       "  </thead>\n",
       "  <tbody>\n",
       "    <tr>\n",
       "      <th>1</th>\n",
       "      <td>01/05/2015 09:15:00 AM</td>\n",
       "      <td>Monday</td>\n",
       "      <td>DAYLIGHT</td>\n",
       "      <td>SEVERE CROSSWINDS</td>\n",
       "      <td>DRY</td>\n",
       "      <td>MA</td>\n",
       "    </tr>\n",
       "    <tr>\n",
       "      <th>28</th>\n",
       "      <td>04/23/2015 07:20:00 AM</td>\n",
       "      <td>Thursday</td>\n",
       "      <td>DAYLIGHT</td>\n",
       "      <td>CLEAR</td>\n",
       "      <td>DRY</td>\n",
       "      <td>MA</td>\n",
       "    </tr>\n",
       "    <tr>\n",
       "      <th>35</th>\n",
       "      <td>06/06/2015 11:39:00 PM</td>\n",
       "      <td>Saturday</td>\n",
       "      <td>DARK - LIGHTED ROADWAY</td>\n",
       "      <td>CLEAR</td>\n",
       "      <td>DRY</td>\n",
       "      <td>MA</td>\n",
       "    </tr>\n",
       "    <tr>\n",
       "      <th>39</th>\n",
       "      <td>07/14/2015 08:27:00 PM</td>\n",
       "      <td>Tuesday</td>\n",
       "      <td>DAYLIGHT</td>\n",
       "      <td>CLEAR</td>\n",
       "      <td>DRY</td>\n",
       "      <td>MA</td>\n",
       "    </tr>\n",
       "    <tr>\n",
       "      <th>41</th>\n",
       "      <td>07/22/2015 05:24:00 PM</td>\n",
       "      <td>Wednesday</td>\n",
       "      <td>NaN</td>\n",
       "      <td>NaN</td>\n",
       "      <td>NaN</td>\n",
       "      <td>MA</td>\n",
       "    </tr>\n",
       "    <tr>\n",
       "      <th>43</th>\n",
       "      <td>08/04/2015 11:20:00 AM</td>\n",
       "      <td>Tuesday</td>\n",
       "      <td>DAYLIGHT</td>\n",
       "      <td>CLEAR</td>\n",
       "      <td>NaN</td>\n",
       "      <td>MA</td>\n",
       "    </tr>\n",
       "    <tr>\n",
       "      <th>47</th>\n",
       "      <td>09/07/2015 08:07:00 PM</td>\n",
       "      <td>Monday</td>\n",
       "      <td>DARK - LIGHTED ROADWAY</td>\n",
       "      <td>CLEAR</td>\n",
       "      <td>DRY</td>\n",
       "      <td>NaN</td>\n",
       "    </tr>\n",
       "    <tr>\n",
       "      <th>56</th>\n",
       "      <td>11/04/2015 01:15:00 PM</td>\n",
       "      <td>Wednesday</td>\n",
       "      <td>DAYLIGHT</td>\n",
       "      <td>CLEAR</td>\n",
       "      <td>DRY</td>\n",
       "      <td>MA</td>\n",
       "    </tr>\n",
       "    <tr>\n",
       "      <th>71</th>\n",
       "      <td>02/18/2016 09:00:00 AM</td>\n",
       "      <td>Thursday</td>\n",
       "      <td>DAYLIGHT</td>\n",
       "      <td>CLEAR</td>\n",
       "      <td>DRY</td>\n",
       "      <td>MA</td>\n",
       "    </tr>\n",
       "    <tr>\n",
       "      <th>80</th>\n",
       "      <td>05/18/2016 08:15:00 PM</td>\n",
       "      <td>Wednesday</td>\n",
       "      <td>DUSK</td>\n",
       "      <td>CLEAR</td>\n",
       "      <td>DRY</td>\n",
       "      <td>NaN</td>\n",
       "    </tr>\n",
       "  </tbody>\n",
       "</table>\n",
       "</div>"
      ],
      "text/plain": [
       "                 Date Time Day of Week           Ambient Light  \\\n",
       "1   01/05/2015 09:15:00 AM      Monday                DAYLIGHT   \n",
       "28  04/23/2015 07:20:00 AM    Thursday                DAYLIGHT   \n",
       "35  06/06/2015 11:39:00 PM    Saturday  DARK - LIGHTED ROADWAY   \n",
       "39  07/14/2015 08:27:00 PM     Tuesday                DAYLIGHT   \n",
       "41  07/22/2015 05:24:00 PM   Wednesday                     NaN   \n",
       "43  08/04/2015 11:20:00 AM     Tuesday                DAYLIGHT   \n",
       "47  09/07/2015 08:07:00 PM      Monday  DARK - LIGHTED ROADWAY   \n",
       "56  11/04/2015 01:15:00 PM   Wednesday                DAYLIGHT   \n",
       "71  02/18/2016 09:00:00 AM    Thursday                DAYLIGHT   \n",
       "80  05/18/2016 08:15:00 PM   Wednesday                    DUSK   \n",
       "\n",
       "   Weather Condition 1 Road Surface Condition v1 State Code  \n",
       "1    SEVERE CROSSWINDS                    DRY            MA  \n",
       "28               CLEAR                    DRY            MA  \n",
       "35               CLEAR                    DRY            MA  \n",
       "39               CLEAR                    DRY            MA  \n",
       "41                 NaN                    NaN            MA  \n",
       "43               CLEAR                    NaN            MA  \n",
       "47               CLEAR                    DRY           NaN  \n",
       "56               CLEAR                    DRY            MA  \n",
       "71               CLEAR                    DRY            MA  \n",
       "80               CLEAR                    DRY           NaN  "
      ]
     },
     "execution_count": 46,
     "metadata": {},
     "output_type": "execute_result"
    }
   ],
   "source": [
    "#only select crash data that involves a bicyclist\n",
    "new_bike_crash = new_crash_data.loc[new_crash_data['May involve cyclist'] == 1.0]\n",
    "new_bike_crash.head()\n",
    "#create new dataframe from selected, relevant columns of crash database\n",
    "col_list = ['Date Time','Day of Week', 'Ambient Light', 'Weather Condition 1', 'Road Surface Condition', 'v1 State Code']\n",
    "new_bike_crash_lim = pd.DataFrame()\n",
    "for element in col_list:\n",
    "    new_bike_crash_lim[element] = new_bike_crash[element]\n",
    "    \n",
    "new_bike_crash_lim.head(10)"
   ]
  },
  {
   "cell_type": "code",
   "execution_count": 47,
   "metadata": {},
   "outputs": [],
   "source": [
    "# create a function that will give you the bike accidents for a given category\n",
    "def bike_crash_breakdown(crash_dataframe, category_term):\n",
    "    crash_dict = {}\n",
    "    interest_list = crash_dataframe[category_term]\n",
    "    for i in range(len(interest_list)):\n",
    "        inter = interest_list.iloc[i]\n",
    "        if inter in crash_dict:\n",
    "            crash_dict[inter] += 1\n",
    "        else:\n",
    "            crash_dict[inter] = 1\n",
    "    return crash_dict"
   ]
  },
  {
   "cell_type": "code",
   "execution_count": 106,
   "metadata": {},
   "outputs": [
    {
     "name": "stdout",
     "output_type": "stream",
     "text": [
      "{'Monday': 106, 'Thursday': 134, 'Saturday': 53, 'Tuesday': 135, 'Wednesday': 153, 'Friday': 104, 'Sunday': 49}\n",
      "Total crashes since 2015: 734\n"
     ]
    }
   ],
   "source": [
    "# count the number of bike accidents on each day of the week\n",
    "dow_count = bike_crash_breakdown(new_bike_crash_lim, 'Day of Week')\n",
    "print(dow_count)\n",
    "\n",
    "#count the total number of bike crashes\n",
    "total = 0\n",
    "for day in dow_count:\n",
    "    total += dow_count[day]\n",
    "    \n",
    "print('Total crashes since 2015:', total)"
   ]
  },
  {
   "cell_type": "markdown",
   "metadata": {},
   "source": [
    "### More bike accidents happen on weeks day rather than weekends, likely because the majority of bikers are commuting to weekday jobs/school"
   ]
  },
  {
   "cell_type": "code",
   "execution_count": 49,
   "metadata": {},
   "outputs": [],
   "source": [
    "#function that, give a dictionary with all int values, produces percentages of each value\n",
    "def dict_percent(int_dict):\n",
    "    per_list = {}\n",
    "    total = sum(int_dict.values())\n",
    "    for item in int_dict:\n",
    "        curr_val = round(((int_dict[item] / total)*100),2)\n",
    "        per_list[item] = curr_val\n",
    "    return per_list"
   ]
  },
  {
   "cell_type": "code",
   "execution_count": 50,
   "metadata": {},
   "outputs": [
    {
     "name": "stdout",
     "output_type": "stream",
     "text": [
      "{'DAYLIGHT': 544, 'DARK - LIGHTED ROADWAY': 117, nan: 6, 'DUSK': 48, 'UNKNOWN': 10, 'DARK - UNKNOWN ROADWAY LIGHTING': 2, 'DAWN': 5, 'DARK - ROADWAY NOT LIGHTED': 1, 'OTHER': 1}\n",
      "\n",
      " {'dark': 120, 'dusk': 53, 'daylight': 544}\n"
     ]
    }
   ],
   "source": [
    "# determine the frequency of bike crashs in different amounts of ambient light. \n",
    "crash_light_count = bike_crash_breakdown(new_bike_crash_lim, 'Ambient Light')\n",
    "print(crash_light_count)\n",
    "# combine different conditions to create 3 categories: daylight, dark, dusk/dawn\n",
    "crash_light_count_brf = {}\n",
    "crash_light_count_brf['dark'] = crash_light_count['DARK - LIGHTED ROADWAY'] + crash_light_count['DARK - UNKNOWN ROADWAY LIGHTING'] + crash_light_count['DARK - ROADWAY NOT LIGHTED']\n",
    "crash_light_count_brf['dusk'] = crash_light_count['DUSK'] + crash_light_count['DAWN']\n",
    "crash_light_count_brf['daylight'] = crash_light_count['DAYLIGHT']\n",
    "print('\\n', crash_light_count_brf)\n"
   ]
  },
  {
   "cell_type": "code",
   "execution_count": 51,
   "metadata": {},
   "outputs": [
    {
     "name": "stdout",
     "output_type": "stream",
     "text": [
      "Percent of Crashes in Ambient Light Types\n",
      "{'dark': 16.74, 'dusk': 7.39, 'daylight': 75.87}\n"
     ]
    }
   ],
   "source": [
    "#now determine as a percentage of total bike related crashes\n",
    "crash_light_percent = dict_percent(crash_light_count_brf)\n",
    "print(\"Percent of Crashes in Ambient Light Types\")\n",
    "print(crash_light_percent)"
   ]
  },
  {
   "cell_type": "markdown",
   "metadata": {},
   "source": [
    "### The majority of bike crashes happen during day light, however, the majority of bike rides also occur during daylight. The next step investigates whether the percentage of accidents that happen at night is proportional to the percentage of bike rides that happen at night. "
   ]
  },
  {
   "cell_type": "code",
   "execution_count": 52,
   "metadata": {},
   "outputs": [
    {
     "data": {
      "text/html": [
       "<div>\n",
       "<style scoped>\n",
       "    .dataframe tbody tr th:only-of-type {\n",
       "        vertical-align: middle;\n",
       "    }\n",
       "\n",
       "    .dataframe tbody tr th {\n",
       "        vertical-align: top;\n",
       "    }\n",
       "\n",
       "    .dataframe thead th {\n",
       "        text-align: right;\n",
       "    }\n",
       "</style>\n",
       "<table border=\"1\" class=\"dataframe\">\n",
       "  <thead>\n",
       "    <tr style=\"text-align: right;\">\n",
       "      <th></th>\n",
       "      <th>DateTime</th>\n",
       "      <th>Day</th>\n",
       "      <th>Date</th>\n",
       "      <th>Time</th>\n",
       "      <th>Total</th>\n",
       "      <th>Westbound</th>\n",
       "      <th>Eastbound</th>\n",
       "    </tr>\n",
       "  </thead>\n",
       "  <tbody>\n",
       "    <tr>\n",
       "      <th>18336</th>\n",
       "      <td>01/01/2016 12:00:00 AM</td>\n",
       "      <td>Friday</td>\n",
       "      <td>01/01/2016</td>\n",
       "      <td>00:00:00</td>\n",
       "      <td>1</td>\n",
       "      <td>1</td>\n",
       "      <td>0</td>\n",
       "    </tr>\n",
       "    <tr>\n",
       "      <th>18406</th>\n",
       "      <td>01/01/2016 05:30:00 PM</td>\n",
       "      <td>Friday</td>\n",
       "      <td>01/01/2016</td>\n",
       "      <td>17:30:00</td>\n",
       "      <td>3</td>\n",
       "      <td>2</td>\n",
       "      <td>1</td>\n",
       "    </tr>\n",
       "    <tr>\n",
       "      <th>18405</th>\n",
       "      <td>01/01/2016 05:15:00 PM</td>\n",
       "      <td>Friday</td>\n",
       "      <td>01/01/2016</td>\n",
       "      <td>17:15:00</td>\n",
       "      <td>1</td>\n",
       "      <td>1</td>\n",
       "      <td>0</td>\n",
       "    </tr>\n",
       "    <tr>\n",
       "      <th>18404</th>\n",
       "      <td>01/01/2016 05:00:00 PM</td>\n",
       "      <td>Friday</td>\n",
       "      <td>01/01/2016</td>\n",
       "      <td>17:00:00</td>\n",
       "      <td>1</td>\n",
       "      <td>1</td>\n",
       "      <td>0</td>\n",
       "    </tr>\n",
       "    <tr>\n",
       "      <th>18403</th>\n",
       "      <td>01/01/2016 04:45:00 PM</td>\n",
       "      <td>Friday</td>\n",
       "      <td>01/01/2016</td>\n",
       "      <td>16:45:00</td>\n",
       "      <td>2</td>\n",
       "      <td>2</td>\n",
       "      <td>0</td>\n",
       "    </tr>\n",
       "  </tbody>\n",
       "</table>\n",
       "</div>"
      ],
      "text/plain": [
       "                     DateTime     Day        Date       Time  Total  \\\n",
       "18336  01/01/2016 12:00:00 AM  Friday  01/01/2016   00:00:00      1   \n",
       "18406  01/01/2016 05:30:00 PM  Friday  01/01/2016   17:30:00      3   \n",
       "18405  01/01/2016 05:15:00 PM  Friday  01/01/2016   17:15:00      1   \n",
       "18404  01/01/2016 05:00:00 PM  Friday  01/01/2016   17:00:00      1   \n",
       "18403  01/01/2016 04:45:00 PM  Friday  01/01/2016   16:45:00      2   \n",
       "\n",
       "       Westbound  Eastbound  \n",
       "18336          1          0  \n",
       "18406          2          1  \n",
       "18405          1          0  \n",
       "18404          1          0  \n",
       "18403          2          0  "
      ]
     },
     "execution_count": 52,
     "metadata": {},
     "output_type": "execute_result"
    }
   ],
   "source": [
    "broad_bike_count.head()"
   ]
  },
  {
   "cell_type": "code",
   "execution_count": 53,
   "metadata": {},
   "outputs": [],
   "source": [
    "#this function will take input times and return the number of bikers in each time frame\n",
    "def bike_time_counter(dark_end, morn_dusk_end, daylight_end, eve_dusk_end, dataset, ):\n",
    "    amb_light_dict = {'dark':0,'dusk':0,'daylight':0}\n",
    "    all_time = dataset['Time']\n",
    "    all_count = dataset['Total']\n",
    "    for i in range(len(all_time)): \n",
    "        curr_time =  all_time.iloc[i]\n",
    "        curr_count = all_count.iloc[i]\n",
    "        curr_time = int(curr_time[1:3])\n",
    "        if dark_end > curr_time or curr_time > eve_dusk_end:\n",
    "            amb_light_dict['dark'] += curr_count\n",
    "        elif curr_time < morn_dusk_end or curr_time > daylight_end:\n",
    "            amb_light_dict['dusk'] += curr_count\n",
    "        else:\n",
    "            amb_light_dict['daylight'] += curr_count\n",
    "    return amb_light_dict       "
   ]
  },
  {
   "cell_type": "code",
   "execution_count": 54,
   "metadata": {},
   "outputs": [
    {
     "name": "stdout",
     "output_type": "stream",
     "text": [
      "percent of biker riders during each light: {'dark': 5.88, 'dusk': 3.79, 'daylight': 90.33}\n"
     ]
    }
   ],
   "source": [
    "# for a rough estimate of the number of bikers at each type of light: \n",
    "# the number of hours of daylight vary throughout the year, the atumn equinox, Sept. 21 will be used as an estimate\n",
    "# Sept 21, 2019: night 8:18pm to 4:55am dusk/dawn: 4:55am to 6:30am daylight 6:30am to 6:43pm\n",
    "#daylight time source: https://www.timeanddate.com/sun/usa/boston?month=9\n",
    "\n",
    "\n",
    "#create dictionary of the bike counts at different ambient lights\n",
    "broad_bike_light = bike_time_counter(5, 6, 19, 20, broad_bike_count)\n",
    "\n",
    "#turn counts into %\n",
    "broad_light_perc = dict_percent(broad_bike_light)\n",
    "\n",
    "print('percent of biker riders during each light:', broad_light_perc)"
   ]
  },
  {
   "cell_type": "code",
   "execution_count": 55,
   "metadata": {},
   "outputs": [
    {
     "name": "stdout",
     "output_type": "stream",
     "text": [
      "% of crashes / % of total riders:\n",
      "[2.85, 1.95, 0.84]\n",
      "['dark', 'dusk', 'daylight']\n"
     ]
    }
   ],
   "source": [
    "# calculate the ratio of bikers to crashs in different types of light\n",
    "norm_light = []\n",
    "key_list = []\n",
    "print('% of crashes / % of total riders:')\n",
    "for key in broad_light_perc:\n",
    "    key_list.append(key)\n",
    "    norm_light.append(round(crash_light_percent[key]/broad_light_perc[key] ,2))\n",
    "    \n",
    "print(norm_light)\n",
    "print(key_list)\n"
   ]
  },
  {
   "cell_type": "markdown",
   "metadata": {},
   "source": [
    "## The ratio of number of bike rides the number of crashes involving bicycles is more than 3 times as high at night as it is during the day. This suggests that "
   ]
  },
  {
   "cell_type": "code",
   "execution_count": 56,
   "metadata": {},
   "outputs": [
    {
     "name": "stdout",
     "output_type": "stream",
     "text": [
      "only use data points prior to:  65263\n",
      "{'01': 65350, '02': 68771, '03': 83782, '04': 111571, '05': 150639, '06': 136658}\n"
     ]
    }
   ],
   "source": [
    "# look at bike crash breakdowns by month of year and normalize by bike riders in each month of year\n",
    "#the Broadway bike count list starts on 6/24/2015 and ends on 10/27/2019 \n",
    "#in the full dataset the dates of 6/24 - 10/27 are over represented in the dataset\n",
    "\n",
    "#to create a dataset where each day of the year is represented fairly, first find i of 6/24/2109\n",
    "important_list = broad_bike_count['Date']\n",
    "for i in range(len(important_list)):\n",
    "    if important_list.iloc[i] == '06/24/2019':\n",
    "        print('only use data points prior to: ', i)\n",
    "        stop_val = i\n",
    "        break \n",
    "\n",
    "#create a shortened dataframe to eliminate unequally representation of the different days \n",
    "broad_bike_count_cut = broad_bike_count[:stop_val] \n",
    "\n",
    "#determine a count for each month of the year\n",
    "date_data = broad_bike_count_cut['Date']\n",
    "count_data = broad_bike_count_cut['Total']\n",
    "\n",
    "month_count_dict = {}\n",
    "\n",
    "for i in range(len(date_data)):\n",
    "    curr_date = date_data.iloc[i] \n",
    "    curr_month = curr_date[:2]\n",
    "    curr_count = count_data.iloc[i]\n",
    "    if curr_month in month_count_dict:\n",
    "        month_count_dict[curr_month] += curr_count\n",
    "    else:\n",
    "        month_count_dict[curr_month] = curr_count\n",
    "print(month_count_dict)"
   ]
  },
  {
   "cell_type": "code",
   "execution_count": null,
   "metadata": {},
   "outputs": [],
   "source": []
  },
  {
   "cell_type": "code",
   "execution_count": 57,
   "metadata": {},
   "outputs": [
    {
     "data": {
      "text/plain": [
       "<BarContainer object of 6 artists>"
      ]
     },
     "execution_count": 57,
     "metadata": {},
     "output_type": "execute_result"
    },
    {
     "data": {
      "image/png": "[encoded data removed]",
      "text/plain": [
       "<Figure size 648x576 with 1 Axes>"
      ]
     },
     "metadata": {
      "needs_background": "light"
     },
     "output_type": "display_data"
    }
   ],
   "source": [
    "# plot the number of riders per month\n",
    "plt.bar(month_count_dict.keys(), month_count_dict.values())"
   ]
  },
  {
   "cell_type": "code",
   "execution_count": 58,
   "metadata": {},
   "outputs": [
    {
     "name": "stdout",
     "output_type": "stream",
     "text": [
      "{'01': 10.6, '02': 11.15, '03': 13.58, '04': 18.09, '05': 24.42, '06': 22.16}\n"
     ]
    }
   ],
   "source": [
    "monthly_perc_bikers = dict_percent(month_count_dict)\n",
    "print(monthly_perc_bikers)"
   ]
  },
  {
   "cell_type": "code",
   "execution_count": 59,
   "metadata": {},
   "outputs": [
    {
     "name": "stdout",
     "output_type": "stream",
     "text": [
      "{'01': 27, '02': 41, '03': 39, '04': 55, '05': 69, '06': 66, '07': 68, '08': 91, '09': 95, '10': 93, '11': 56, '12': 34}\n"
     ]
    },
    {
     "data": {
      "image/png": "[encoded data removed]",
      "text/plain": [
       "<Figure size 648x576 with 1 Axes>"
      ]
     },
     "metadata": {
      "needs_background": "light"
     },
     "output_type": "display_data"
    }
   ],
   "source": [
    "# now determine the number of bicycle crashes each month\n",
    "crash_dates = new_bike_crash_lim['Date Time']\n",
    "\n",
    "#python 3 insertion order is guarenteed, so initialize dict with values to maintain correct order\n",
    "month_crash_count_dict = {'01':0, '02':0, '03':0, '04':0,'05':0, '06':0, '07':0, '08':0, '09':0, '10':0, '11':0,}\n",
    "for i in range(len(crash_dates)):\n",
    "    curr_date = crash_dates.iloc[i] \n",
    "    curr_month = curr_date[:2]\n",
    "    if curr_month in month_crash_count_dict:\n",
    "        month_crash_count_dict[curr_month] += 1\n",
    "    else:\n",
    "        month_crash_count_dict[curr_month] = 1\n",
    "        \n",
    "print(month_crash_count_dict)\n",
    "\n",
    "\n",
    "plt.bar(month_crash_count_dict.keys(), month_crash_count_dict.values())\n",
    "month_perc_crashes = dict_percent(month_crash_count_dict)"
   ]
  },
  {
   "cell_type": "code",
   "execution_count": 104,
   "metadata": {},
   "outputs": [
    {
     "ename": "KeyError",
     "evalue": "'07'",
     "output_type": "error",
     "traceback": [
      "\u001b[0;31m---------------------------------------------------------------------------\u001b[0m",
      "\u001b[0;31mKeyError\u001b[0m                                  Traceback (most recent call last)",
      "\u001b[0;32m<ipython-input-104-673812d35ab7>\u001b[0m in \u001b[0;36m<module>\u001b[0;34m\u001b[0m\n\u001b[1;32m      2\u001b[0m \u001b[0mnorm_crash_month\u001b[0m \u001b[0;34m=\u001b[0m \u001b[0;34m{\u001b[0m\u001b[0;34m}\u001b[0m\u001b[0;34m\u001b[0m\u001b[0;34m\u001b[0m\u001b[0m\n\u001b[1;32m      3\u001b[0m \u001b[0;32mfor\u001b[0m \u001b[0mi\u001b[0m \u001b[0;32min\u001b[0m \u001b[0mmonth_perc_crashes\u001b[0m\u001b[0;34m.\u001b[0m\u001b[0mkeys\u001b[0m\u001b[0;34m(\u001b[0m\u001b[0;34m)\u001b[0m\u001b[0;34m:\u001b[0m\u001b[0;34m\u001b[0m\u001b[0;34m\u001b[0m\u001b[0m\n\u001b[0;32m----> 4\u001b[0;31m     \u001b[0mnorm_crash_month\u001b[0m\u001b[0;34m[\u001b[0m\u001b[0mi\u001b[0m\u001b[0;34m]\u001b[0m \u001b[0;34m=\u001b[0m \u001b[0mround\u001b[0m\u001b[0;34m(\u001b[0m\u001b[0mmonth_perc_crashes\u001b[0m\u001b[0;34m[\u001b[0m\u001b[0mi\u001b[0m\u001b[0;34m]\u001b[0m \u001b[0;34m/\u001b[0m \u001b[0mmonthly_perc_bikers\u001b[0m\u001b[0;34m[\u001b[0m\u001b[0mi\u001b[0m\u001b[0;34m]\u001b[0m\u001b[0;34m,\u001b[0m\u001b[0;36m2\u001b[0m\u001b[0;34m)\u001b[0m\u001b[0;34m\u001b[0m\u001b[0;34m\u001b[0m\u001b[0m\n\u001b[0m\u001b[1;32m      5\u001b[0m \u001b[0;34m\u001b[0m\u001b[0m\n\u001b[1;32m      6\u001b[0m \u001b[0;31m#print(norm_crash_month)\u001b[0m\u001b[0;34m\u001b[0m\u001b[0;34m\u001b[0m\u001b[0;34m\u001b[0m\u001b[0m\n",
      "\u001b[0;31mKeyError\u001b[0m: '07'"
     ]
    }
   ],
   "source": [
    "#normalize the number of crashes per month by number of bikers per month\n",
    "norm_crash_month = {}\n",
    "for i in month_perc_crashes.keys():\n",
    "    norm_crash_month[i] = round(month_perc_crashes[i] / monthly_perc_bikers[i],2)\n",
    "\n",
    "#print(norm_crash_month)\n",
    "norm_crash_month_perc = dict_percent(norm_crash_month)\n",
    "plt.bar(norm_crash_month_perc.keys(), norm_crash_month_perc.values())\n",
    "for i, v in enumerate(norm_crash_month_perc.values()):\n",
    "    ax.text(v + 3, i + .25, str(v), color='blue', fontweight='bold')"
   ]
  },
  {
   "cell_type": "code",
   "execution_count": 61,
   "metadata": {},
   "outputs": [],
   "source": [
    "# add values to plot if possible"
   ]
  },
  {
   "cell_type": "markdown",
   "metadata": {},
   "source": [
    "## The months with the highest number of bicycle crashes normalized to the number of bikers are February, September, and October (the highest)"
   ]
  },
  {
   "cell_type": "code",
   "execution_count": 95,
   "metadata": {},
   "outputs": [
    {
     "name": "stdout",
     "output_type": "stream",
     "text": [
      "{'SEVERE CROSSWINDS': 0.14, 'CLEAR': 71.25, nan: 1.09, 'UNKNOWN': 3.27, 'RAIN': 7.77, 'CLOUDY': 15.67, 'SNOW': 0.27, 'SLEET, HAIL, FREEZING RAIN OR DRIZZLE': 0.41, 'OTHER': 0.14}\n",
      "\n",
      "\n",
      "{'DRY': 79.97, nan: 2.04, 'UNKNOWN': 3.54, 'WET': 12.67, 'ICE': 0.14, 'SNOW': 0.82, 'SAND, MUD, DIRT, OIL, GRAVEL': 0.41, 'OTHER': 0.41}\n"
     ]
    }
   ],
   "source": [
    "# now examine weather and crashes\n",
    "crash_weather_count = bike_crash_breakdown(new_bike_crash_lim, 'Weather Condition 1')\n",
    "print(dict_percent(crash_weather_count))\n",
    "print('\\n')\n",
    "\n",
    "crash_road_surface_count = bike_crash_breakdown(new_bike_crash_lim, 'Road Surface Condition')\n",
    "print(dict_percent(crash_road_surface_count))"
   ]
  },
  {
   "cell_type": "markdown",
   "metadata": {},
   "source": [
    "## Over 70% of crashes involving bicycles occured when the weather was 'clear' and almost 80% of crashes occured when the road way dry"
   ]
  },
  {
   "cell_type": "code",
   "execution_count": 103,
   "metadata": {},
   "outputs": [
    {
     "name": "stdout",
     "output_type": "stream",
     "text": [
      "January 1.15\n",
      "February 1.746875\n",
      "March 1.3973684210526316\n",
      "April 2.0243243243243243\n",
      "May 2.473684210526316\n",
      "June 1.9127659574468086\n",
      "July 2.258536585365854\n",
      "August 3.542857142857143\n",
      "September 4.3133333333333335\n",
      "October 2.534\n",
      "November 2.312121212121212\n",
      "December 1.0065217391304349\n"
     ]
    }
   ],
   "source": [
    "crashes = list(month_perc_crashes.values())\n",
    "precip = list(monthly_weather['Avg Precipitation'])\n",
    "month = list(monthly_weather['Month'])\n",
    "for i in range(len(crashes)):\n",
    "    print(month[i], crashes[i]/precip[i])"
   ]
  },
  {
   "cell_type": "code",
   "execution_count": 105,
   "metadata": {},
   "outputs": [
    {
     "name": "stdout",
     "output_type": "stream",
     "text": [
      "{'MA': 617, nan: 52, 'NH': 11, 'ME': 3, 'NY': 8, 'OH': 2, 'WA': 2, 'FL': 3, 'CT': 8, 'RI': 3, 'OT': 2, 'NJ': 5, 'VT': 3, 'VA': 3, 'AR': 1, 'MD': 2, 'IL': 4, 'ID': 1, 'YT': 1, 'KY': 1, 'PA': 1, 'MN': 1}\n",
      "\n",
      "\n",
      "617 Massachusetts cars were involved in bicycle crashes ( 90.5 % of crashes)\n",
      "65 Out of state cars were involved in bicycle crashes ( 9.5 % of crashes)\n"
     ]
    }
   ],
   "source": [
    "#determine if more out of state cars are involved with bicycle crashes\n",
    "state_license_dict = bike_crash_breakdown(new_bike_crash_lim, 'v1 State Code')\n",
    "print(state_license_dict)\n",
    "state_license_dict['not MA'] = 0\n",
    "\n",
    "#count the total number of out of state cars involved in bicycle accidents\n",
    "for state in state_license_dict:\n",
    "    if state != 'MA' and pd.isnull(state)==False and state != 'not MA':\n",
    "        state_license_dict['not MA'] += state_license_dict[state]\n",
    "\n",
    "\n",
    "total_crashes_w_plates = state_license_dict['MA'] + state_license_dict['not MA']\n",
    "ma_percent = round(state_license_dict['MA'] / total_crashes_w_plates *100 ,1)\n",
    "not_ma_percent = round(state_license_dict['not MA'] / total_crashes_w_plates* 100, 1)\n",
    "print('\\n')\n",
    "print(state_license_dict['MA'], 'Massachusetts cars were involved in bicycle crashes', '(', ma_percent, '% of crashes)')\n",
    "print(state_license_dict['not MA'], 'Out of state cars were involved in bicycle crashes', '(', not_ma_percent, '% of crashes)')"
   ]
  },
  {
   "cell_type": "markdown",
   "metadata": {},
   "source": [
    "# interesting that there are a large number of other states, not sure if enough to be statistically signficant, but may be out of state drivers are not used to bikers"
   ]
  },
  {
   "cell_type": "code",
   "execution_count": null,
   "metadata": {},
   "outputs": [],
   "source": []
  },
  {
   "cell_type": "code",
   "execution_count": null,
   "metadata": {},
   "outputs": [],
   "source": []
  }
 ],
 "metadata": {
  "kernelspec": {
   "display_name": "Python 3",
   "language": "python",
   "name": "python3"
  },
  "language_info": {
   "codemirror_mode": {
    "name": "ipython",
    "version": 3
   },
   "file_extension": ".py",
   "mimetype": "text/x-python",
   "name": "python",
   "nbconvert_exporter": "python",
   "pygments_lexer": "ipython3",
   "version": "3.7.3"
  }
 },
 "nbformat": 4,
 "nbformat_minor": 2
}
